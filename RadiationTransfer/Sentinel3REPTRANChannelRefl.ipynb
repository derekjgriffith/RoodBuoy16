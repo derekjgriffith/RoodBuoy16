{
 "cells": [
  {
   "cell_type": "markdown",
   "metadata": {
    "collapsed": true
   },
   "source": [
    "# Radiative Transfer Methods using *libRadtran*\n",
    "The methods for computing satellite channel radiances at TOA as well as the method for retrieving\n",
    "water-leaving radiance $L_w$ are described below.\n",
    "## Calculation of Radiances at TOA\n",
    "\n",
    "The method for calculating TOA radiances in the S3 channels is as follows:\n",
    " 1. Retrieve the area-averaged surface reflectance from the S3 product by __either__ \n",
    "  1. running with several 'albedo' values and interpolating on actual S3-measured radiances, __or__\n",
    "  2. taking the S3 product back to TOA reflectance and use libRadtran/uvspec in the reflectivity mode\n",
    "     to retrieve surface reflectance in the same way. This has the advantage that a mismatch in\n",
    "     TOA solar irradiance between S3 product and that chosen for previous alternative is eliminated.\n",
    " 2. Compute path transmittance at observation zenith angle by putting the solar zenith angle equal to the\n",
    "    observation zenith angle and computing the ratio of the direct solar (edir) component at BOA\n",
    "    as a fraction of the direct solar component at TOA. Only fluxes (irradiances), no radiances, are\n",
    "    required for this run.\n",
    " 3. Compute BOA and TOA radiances at true OZA and OAA set up correctly relative to the sun. \n",
    " 4. Determine the atmospheric path radiance at TOA by taking the radiance at BOA, multiplying\n",
    "    by the path transmittance and subtracting this component from the total radiance at TOA\n",
    " 5. Take the total downwelling irradiance at BOA and multiply by $R_{rs}$ to obtain the \n",
    "    water-leaving radiance. \n",
    " 6. Compute the sky radiance along the water-observation reflectance vector.\n",
    " 7. Multiply sky radiance by the Mobley-table reflectance factor to obtain the surface-sky-reflected \n",
    "    upwelling radiance at BOA towards satellite.\n",
    " 8. Multiply surface-sky-reflected radiance by path transmittance computed in (2) to obtain\n",
    "    residual (surviving) surface-sky-reflected radiance at TOA.\n",
    " 9. Multiply water-leaving radiance by path transmittance to obtain residual (surviving)\n",
    "    water-leaving radiance at TOA.\n",
    " 10. Compute total radiance at TOA by adding residual surface-sky-reflected radiance,\n",
    "     residual water-leaving radiance and atmospheric path radiance computed in (4).\n",
    " 11. To retrieve water-leaving radiance, take the sum of the residual sky-reflected\n",
    "     radiance at TOA and the atmospheric path radiance and subtract this sum from\n",
    "     actual S3 radiance measurements. This yields an estimate of the residual\n",
    "     water-leaving radiance at TOA, which, when divided by the path transmittance\n",
    "     will yield an estimate of the water-leaving radiance at BOA.\n",
    " 12. Estimated water-leaving radiance at BOA can be divided by the downwelling irradiance\n",
    "     at BOA to obtain a retrieval of the water remote-sensing reflectance $R_{rs}$.\n",
    "\n",
    "\n",
    " Variations on the above procedure could include working with some version of reflectance\n",
    " right through the process instead of radiances. Final conversion to radiance would\n",
    " then involve the use of the TOA solar irradiances in the S3 product. As with the second variation of\n",
    " step 1, this could help to eliminate mismatch due to choice of exoatmospheric solar irradiance spectrum.\n",
    "\n",
    "\n",
    " Possible enhancements to the scheme for dealing better with \"adjacency\" are:\n",
    " 1. Using vegetation BRDF, probably in the form of RPV parameters from MISR to better estimate the \n",
    "    total amount of upwelling radiation from the surface.\n",
    " 2. Conceive of \"adjacency effects\" as a combination of three seperable spurious signal components:\n",
    "  1. Pixel __mixing__, where due to geometrical and optical diffraction effects, the effective\n",
    "     pixel footprint extends over both water and land/vegetation target areas. This effect would exist\n",
    "     even if there were no atmosphere.\n",
    "  2. Atmospheric __adjacency__ which is strictly due to scattering effects in the atmosphere.\n",
    "  3. __Straylight__ in the optical instrument."
   ]
  },
  {
   "cell_type": "markdown",
   "metadata": {
    "collapsed": true
   },
   "source": [
    "# Radiative Transfer based on Reflectivity\n",
    "Instead of direct calculation of radiances, there is the alternative (B) above to perform all S3-related computations on the\n",
    "basis of reflectivity instead. _libRadtran/uvspec_ offers an output option invoked with *output_quantity reflectivity*. \n",
    "In this mode, instead of radiance $L$, the computed quantity is\n",
    "$$ R = \\frac{\\pi L}{E_0 \\cos \\theta} .$$\n",
    "The factor $E_0 \\cos \\theta$ is the horizontal solar irradiance at TOA, where $\\theta$ is the solar zenith angle and\n",
    "$E_0$ is the (seasonally-corrected) direct solar irradiance at TOA. The horizontal solar irradiance at TOA for a\n",
    "specific S3 image product are provided within the product. Therefore, if _libRadtran/uvspec_ computes $R$ in the\n",
    "*output_quantity reflectivity* mode, the S3 channel radiance can be computed as\n",
    "$$ L = \\frac{R}{\\pi} E_0 \\cos \\theta .$$\n",
    "The the case of fluxes (irradiances), the true irradiance is obtained simply by multiplying the _libRadtran/uvspec_ output\n",
    "in *output_quantity reflectivity* mode by the TOA solar horizontal irradiance. That is, _libRadtran/uvspec_ outputs the quantity\n",
    "$$T=\\frac{E}{E_0 \\cos \\theta}$$\n",
    "and in order to revert to the true irradiance, the solar horizontal irradiance $E_0 \\cos \\theta$ is taken from the S3 product\n",
    "and used as\n",
    "$$E = T \\cdot E_0 \\cos \\theta$$."
   ]
  },
  {
   "cell_type": "code",
   "execution_count": 1,
   "metadata": {
    "collapsed": true
   },
   "outputs": [],
   "source": [
    "import morticia.rad.librad as librad\n",
    "import numpy as np\n",
    "import matplotlib as mpl\n",
    "import matplotlib.pyplot as plt\n",
    "import datetime\n",
    "import pytz\n",
    "from scipy.interpolate import interp1d\n",
    "from ipyparallel import Client  # This is the client class for contacting the hub/controller for compute resources\n",
    "# use latex for font rendering\n",
    "mpl.rcParams['text.usetex'] = True  # Use TeX to format labels (takes a bit longer)\n",
    "%matplotlib inline"
   ]
  },
  {
   "cell_type": "code",
   "execution_count": 2,
   "metadata": {
    "collapsed": false
   },
   "outputs": [],
   "source": [
    "# Run this cell to autoreload librad if doing development\n",
    "%load_ext autoreload\n",
    "%autoreload 1\n",
    "%aimport morticia.rad.librad"
   ]
  },
  {
   "cell_type": "code",
   "execution_count": 3,
   "metadata": {
    "collapsed": true
   },
   "outputs": [],
   "source": [
    "# Setup compute server identity and credentials\n",
    "security_profile = 'f2'\n",
    "server = 'f2.csir.co.za'\n",
    "username = 'dgriffith'\n",
    "user_password = 'mandamoggie'"
   ]
  },
  {
   "cell_type": "code",
   "execution_count": 4,
   "metadata": {
    "collapsed": true
   },
   "outputs": [],
   "source": [
    "\n",
    "# Create a blank case\n",
    "S3 = librad.Case(casename='S3toTOAon20160605')\n"
   ]
  },
  {
   "cell_type": "code",
   "execution_count": 5,
   "metadata": {
    "collapsed": false
   },
   "outputs": [],
   "source": [
    "# Set revision\n",
    "revision = '00A'\n",
    "\n",
    "# Choose basic atmospheric profile\n",
    "atmos_profile = '../data/atmmod/afglmw.dat'\n",
    "S3.set_option('atmosphere_file', atmos_profile)  # mid-latitude winter standard atmosphere\n",
    "\n",
    "# Modify the ozone and water vapour column amounts\n",
    "S3.set_option('mol_modify H2O', 10.5, 'MM')  # Total water vapour column in mm\n",
    "S3.set_option('mol_modify O3', 266.1, 'DU')  # Total ozone column in Dobson units\n",
    "\n",
    "# Change to the Thuillier spectrum and set wavelength range appropriately\n",
    "# solar_toa_file = '../data/solar_flux/Solar_irradiance_Thuillier_2002.txt'\n",
    "# solar_toa_file = '../data/solar_flux/atlas_plus_modtran'\n",
    "# solar_toa_file = '../data/solar_flux/kurudz_1.0nm.dat'\n",
    "\n",
    "# Choose start and stop wavelengths and minimum edge margin in nm\n",
    "wv_minimum_range = [[385.0, -2.0], [955.0, 2.0]]\n",
    "# Find the nearest wavelengths in the solar file\n",
    "wv_range = librad.lookup_nearest_in_file('data/Solar_irradiance_Thuillier_2002.txt', wv_minimum_range)  # lookup in local copy\n",
    "#S3.set_option('source solar', solar_toa_file)\n",
    "#S3.set_option('wavelength', wv_range[0], wv_range[1])  # Wavelength must exist in the source solar file\n",
    "#S3.set_option('wavelength', 600.0, 900.0)\n",
    "\n",
    "# Set up dates and times\n",
    "overpass_datetime = datetime.datetime(2016, 6, 5, 7, 42, 31, tzinfo=pytz.utc)  # Overpass date and time down to second\n",
    "overpass_datestr = overpass_datetime.strftime('%Y%m%d')\n",
    "# Get the day of year\n",
    "day_of_year = int(overpass_datetime.strftime('%j'))\n",
    "# S3.set_option('day_of_year', day_of_year)\n",
    "\n",
    "results_folder = 'ResultsS3on' + overpass_datestr + 'Rev' + revision\n",
    "\n",
    "# Choose band model\n",
    "S3.set_option('mol_abs_param reptran_channel', 'sentinel3_olci_b02')\n",
    "\n",
    "# Choose solver\n",
    "S3.set_option('rte_solver disort')\n",
    "\n",
    "\n",
    "# Set ground altitude\n",
    "S3.set_option('altitude', 1.225)  # ground altitude in km above sea level\n",
    "\n",
    "# Set ground albedo\n",
    "S3.set_option('albedo 0.0')\n",
    "\n",
    "# Set surface pressure\n",
    "S3.set_option('pressure', 894.0)\n",
    "\n",
    "# Set up aerosol model\n",
    "S3.set_option('aerosol_default')\n",
    "S3.set_option('aerosol_vulcan', 1)               # Aerosol type above 2km\n",
    "S3.set_option('aerosol_season', 1)               # Summer season\n",
    "#S3.set_option('aerosol_visibility', 20.0)        # Visibility\n",
    "S3.set_option('aerosol_haze', 5)                 # Shettle/Fenn urban aerosol\n",
    "#S3.set_option('aerosol_set_tau_at_wvl Nan Nan')  # To be filled in later per case\n",
    "aot_wv = np.array([440, 500, 675, 870], dtype=np.float)  # MicroTOPS measurement wavelengths\n",
    "aot = np.array([0.703, 0.615, 0.362, 0.206])  # MicroTOPS measurements\n",
    "# Fit Angstrom law to data\n",
    "alpha, beta = librad.angstrom_law_fit(aot_wv, aot)\n",
    "# Fit King Byrne formula\n",
    "alpha_0, alpha_1, alpha_2 = librad.king_byrne_formula_fit(aot_wv, aot)\n",
    "#S3.set_option('aerosol_angstrom', alpha, beta)\n",
    "#S3.set_option('aerosol_king_byrne', alpha_0, alpha_1, alpha_2)\n",
    "\n",
    "# Set up aerosol SSA\n",
    "SSA_wv = np.array([400.0, 675.0, 875.0, 1020.0])\n",
    "SSA = np.array([0.9, 0.866, 0.833, 0.8])\n",
    "\n",
    "# Set up assymmetry parameter\n",
    "Assym_wv = np.array([400.0, 675.0, 875.0, 1020.0])\n",
    "Assym = [0.7, 0.61, 0.56, 0.52]\n",
    "\n",
    "# Use output quantity of reflectivity for all runs\n",
    "S3.set_option('output_quantity reflectivity')\n",
    "\n",
    "# Set up viewing and solar geometry. Note that these angles are taken from the S3 product and special\n",
    "# care has to be taken when putting geometry information into libRadtran\n",
    "OAA = 104.01066  # deg. Observation azimuth angle (presumably relative to north through east, satellite from dam)\n",
    "OZA = 14.151356  # deg. Observation zenith angle (satellite zenith angle as seen from the dam)\n",
    "SAA = 38.719933  # deg. Solar azimuth angle (presumably relative to north through east)\n",
    "SZA = 59.316036  # deg. Solar zenith angle\n",
    "cosSZA = np.cos(np.deg2rad(SZA))\n",
    "\n",
    "# Set the viewing geometry\n",
    "S3.set_view_geometry(sza=SZA, saa=SAA, oza=OZA, oaa=OAA)\n",
    "\n",
    "#S3.set_option('verbose')\n",
    "\n",
    "S3.set_option('zout boa')\n",
    "S3.purge = False  # Prevent purging of output files\n"
   ]
  },
  {
   "cell_type": "code",
   "execution_count": 6,
   "metadata": {
    "collapsed": false
   },
   "outputs": [
    {
     "name": "stdout",
     "output_type": "stream",
     "text": [
      "atmosphere_file ../data/atmmod/afglmw.dat\n",
      "mol_modify H2O 10.5 MM\n",
      "mol_modify O3 266.1 DU\n",
      "mol_abs_param reptran_channel sentinel3_olci_b02\n",
      "rte_solver disort\n",
      "altitude 1.225\n",
      "albedo 0.0\n",
      "pressure 894.0\n",
      "aerosol_default \n",
      "aerosol_vulcan 1\n",
      "aerosol_season 1\n",
      "aerosol_haze 5\n",
      "output_quantity reflectivity\n",
      "sza 59.316036\n",
      "phi0 218.719933\n",
      "phi 104.01066\n",
      "umu 0.969653265954\n",
      "zout boa\n"
     ]
    }
   ],
   "source": [
    "print S3"
   ]
  },
  {
   "cell_type": "code",
   "execution_count": 7,
   "metadata": {
    "collapsed": false
   },
   "outputs": [],
   "source": [
    "# Create list of S3/OLCI channels\n",
    "S3olciChannelNumbers = range(2,22)  # Bands 2 to 21\n",
    "S3olciChannels = ['sentinel3_olci_b' + '%02d' % S3olciChannelNumber for S3olciChannelNumber in S3olciChannelNumbers]\n",
    "# List for all Sentinel 3 OLCI channel centre wavelengths\n",
    "AllS3olciWavelengths = np.array([\n",
    "       [  412.5],\n",
    "       [  442.5],\n",
    "       [  490.0],\n",
    "       [  510.0],\n",
    "       [  560.0],\n",
    "       [  620.0],\n",
    "       [  665.0],\n",
    "       [  673.75],\n",
    "       [  681.25],\n",
    "       [  708.75],\n",
    "       [  753.75],\n",
    "       [  761.25],\n",
    "       [  764.375],\n",
    "       [  767.5],\n",
    "       [  778.75],\n",
    "       [  865.0],\n",
    "       [  885.0],\n",
    "       [  900.0 ],\n",
    "       [  940.0],\n",
    "       [ 1020.0]])\n",
    "AllS3olciInternalWavelengths = np.array([\n",
    "       [  412.727478 ],\n",
    "       [  440.292542],\n",
    "       [  489.786133],\n",
    "       [  510.149597],\n",
    "       [  559.765686],\n",
    "       [  619.830994],\n",
    "       [  665.207153],\n",
    "       [  673.787720],\n",
    "       [  681.588135],\n",
    "       [  709.157227],\n",
    "       [  753.952698],\n",
    "       [  761.265],\n",
    "       [  764.4  ],\n",
    "       [  767.525],\n",
    "       [  780.472290],\n",
    "       [  865.818604],\n",
    "       [  884.106262],\n",
    "       [  900.11 ],\n",
    "       [  940.115],\n",
    "       [ 1008.424805]])\n",
    "\n",
    "# Compute best fit King Byrne AOT at the representative wavelengths\n",
    "KingByrneAOTatOLCI = librad.king_byrne_formula(AllS3olciWavelengths, alpha_0, alpha_1, alpha_2)"
   ]
  },
  {
   "cell_type": "code",
   "execution_count": 8,
   "metadata": {
    "collapsed": false
   },
   "outputs": [
    {
     "data": {
      "image/png": "[encoded data removed]",
      "text/plain": [
       "<matplotlib.figure.Figure at 0xdfd0a58>"
      ]
     },
     "metadata": {},
     "output_type": "display_data"
    }
   ],
   "source": [
    "plt.figure(figsize=(16,9))\n",
    "plt.plot(AllS3olciWavelengths, KingByrneAOTatOLCI, 'x', aot_wv, aot, 'or')\n",
    "plt.title('King Byrne Formula Fit to MicroTOPS AOT Measurements, Roodeplaat 2016-06-05')\n",
    "plt.xlabel('Wavelength [nm]')\n",
    "plt.ylabel('Aerosol Optical Thickness')\n",
    "plt.legend(['King Byrne Fit at Sentinel 3 Channel Wavelengths', 'MicroTOPS Measurements'])\n",
    "plt.grid()"
   ]
  },
  {
   "cell_type": "code",
   "execution_count": 9,
   "metadata": {
    "collapsed": false
   },
   "outputs": [
    {
     "data": {
      "image/png": "[encoded data removed]",
      "text/plain": [
       "<matplotlib.figure.Figure at 0xe43a160>"
      ]
     },
     "metadata": {},
     "output_type": "display_data"
    }
   ],
   "source": [
    "# Now do a simple linear-extrapolated fit to the SSA data\n",
    "SSAinterpolator = interp1d(SSA_wv, SSA, kind='linear', fill_value='extrapolate')\n",
    "SSAatS3wvl = SSAinterpolator(AllS3olciWavelengths)\n",
    "plt.figure(figsize=(16,9))\n",
    "plt.plot(AllS3olciWavelengths, SSAatS3wvl, linestyle='--', marker='o')\n",
    "plt.title('Aerosol Single Scattering Albedo, Aeronet, DPSS, 2016-06-05')\n",
    "plt.xlabel('Wavelength [nm]')\n",
    "plt.ylabel('SSA')\n",
    "plt.grid()"
   ]
  },
  {
   "cell_type": "code",
   "execution_count": 10,
   "metadata": {
    "collapsed": false
   },
   "outputs": [
    {
     "data": {
      "image/png": "[encoded data removed]",
      "text/plain": [
       "<matplotlib.figure.Figure at 0xe6ac320>"
      ]
     },
     "metadata": {},
     "output_type": "display_data"
    }
   ],
   "source": [
    "# Simaple linear fit to the assymetry parameter\n",
    "AssymInterpolator = interp1d(Assym_wv, Assym)\n",
    "AssymAtS3wvl = AssymInterpolator(AllS3olciWavelengths)\n",
    "plt.figure(figsize=(16,9))\n",
    "plt.plot(AllS3olciWavelengths, AssymAtS3wvl, linestyle='--', marker='o')\n",
    "plt.title('Aerosol Assymetry Parameter, Aeronet, DPSS, 2016-06-05')\n",
    "plt.xlabel('Wavelength [nm]')\n",
    "plt.ylabel('Assymetry Parameter')\n",
    "plt.grid()"
   ]
  },
  {
   "cell_type": "code",
   "execution_count": 11,
   "metadata": {
    "collapsed": false
   },
   "outputs": [
    {
     "name": "stdout",
     "output_type": "stream",
     "text": [
      "atmosphere_file ../data/atmmod/afglmw.dat\n",
      "mol_modify H2O 10.5 MM\n",
      "mol_modify O3 266.1 DU\n",
      "mol_abs_param reptran_channel sentinel3_olci_b02\n",
      "rte_solver disort\n",
      "altitude 1.225\n",
      "albedo 0.0\n",
      "pressure 894.0\n",
      "aerosol_default \n",
      "aerosol_vulcan 1\n",
      "aerosol_season 1\n",
      "aerosol_haze 5\n",
      "output_quantity reflectivity\n",
      "sza 59.316036\n",
      "phi0 218.719933\n",
      "phi 104.01066\n",
      "umu 0.969653265954\n",
      "zout boa\n",
      "aerosol_modify tau set 0.74866009\n",
      "aerosol_modify ssa set 0.89845455\n"
     ]
    }
   ],
   "source": [
    "# Create a list of cases, one for each S3 channel\n",
    "import copy\n",
    "S3allChan = [copy.deepcopy(S3) for S3olciChannel in S3olciChannels]\n",
    "for iCase, S3Case in enumerate(S3allChan):\n",
    "    S3Case.set_option('mol_abs_param reptran_channel', S3olciChannels[iCase])\n",
    "    S3Case.name = 'S3toTOAon20160605' + S3olciChannels[iCase]\n",
    "    S3Case.set_option('aerosol_modify tau set', KingByrneAOTatOLCI[iCase])\n",
    "    S3Case.set_option('aerosol_modify ssa set', SSAatS3wvl[iCase])\n",
    "    #S3Case.set_option('aerosol_modify gg set', AssymAtS3wvl[iCase])\n",
    "print S3allChan[0]\n",
    "S3allChan[0].purge = False"
   ]
  },
  {
   "cell_type": "code",
   "execution_count": 12,
   "metadata": {
    "collapsed": false
   },
   "outputs": [
    {
     "data": {
      "text/plain": [
       "<AsyncResult: use_dill>"
      ]
     },
     "execution_count": 12,
     "metadata": {},
     "output_type": "execute_result"
    }
   ],
   "source": [
    "\n",
    "# Create the ipyparallel client and contact the hub/controller using the profile called icebow and SSH\n",
    "# to the machine at the IP address 146.64.246.95\n",
    "# This will cause ipyparall to look in ~/.ipython/profile_icebow/security for a file named ipcontroller_client.json.\n",
    "# This file is generated by the hub/controller process when started using the ipcluster or ipcontroller command and\n",
    "# it may need to be copied from the host running the hub/controller to the machine running the client.\n",
    "#\n",
    "\n",
    "paraclient = Client(profile=security_profile, sshserver=username + '@' + server, password=user_password)\n",
    "# Obtain a \"load-balanced\" view of the engine cluster\n",
    "paraview = paraclient.load_balanced_view()\n",
    "# Set the view to blocking mode, which means that we wait for all engines to complete the task before\n",
    "# control is returned to the client\n",
    "paraview.block = True\n",
    "# We will use dill instead of the standard pickle so that we can send instance methods to engines\n",
    "paraclient[:].use_dill()"
   ]
  },
  {
   "cell_type": "code",
   "execution_count": 13,
   "metadata": {
    "collapsed": false
   },
   "outputs": [],
   "source": [
    "# Now try to run the batch on the cluster\n",
    "S3allChan = paraview.map(librad.Case.run, S3allChan)"
   ]
  },
  {
   "cell_type": "code",
   "execution_count": 14,
   "metadata": {
    "collapsed": false
   },
   "outputs": [
    {
     "name": "stdout",
     "output_type": "stream",
     "text": [
      "[0, 0, 0, 0, 0, 0, 0, 0, 0, 0, 0, 0, 0, 0, 0, 0, 0, 0, 0, 0]\n"
     ]
    }
   ],
   "source": [
    "# Check return codes for all cases\n",
    "print [thisS3Case.run_return_code for thisS3Case in S3allChan]"
   ]
  },
  {
   "cell_type": "code",
   "execution_count": 15,
   "metadata": {
    "collapsed": false
   },
   "outputs": [
    {
     "data": {
      "text/plain": [
       "[' ... using CH4 volume mixing ratio profile from US standard atmosphere.\\n',\n",
       " ' ... using N2O volume mixing ratio profile from US standard atmosphere.\\n',\n",
       " ' ... using CO volume mixing ratio profile from US standard atmosphere.\\n',\n",
       " ' ... using N2 volume mixing ratio profile from US standard atmosphere.\\n',\n",
       " ' ... setting number_of_streams to 16 for radiance calculation!\\n',\n",
       " ' ... scaling O3   column from      376.19 DU    to       266.1 DU\\n',\n",
       " ' ... scaling precipitable water from   5.067080 kg/m2 to  10.499996 kg/m2\\n',\n",
       " 'Using new intensity correction, with phase functions\\n']"
      ]
     },
     "execution_count": 15,
     "metadata": {},
     "output_type": "execute_result"
    }
   ],
   "source": [
    "# Peep at stderr output for one of the cases\n",
    "S3allChan[0].stderr"
   ]
  },
  {
   "cell_type": "code",
   "execution_count": 16,
   "metadata": {
    "collapsed": false
   },
   "outputs": [
    {
     "ename": "NameError",
     "evalue": "name 'S3SolarFluxMean' is not defined",
     "output_type": "error",
     "traceback": [
      "\u001b[1;31m---------------------------------------------------------------------------\u001b[0m",
      "\u001b[1;31mNameError\u001b[0m                                 Traceback (most recent call last)",
      "\u001b[1;32m<ipython-input-16-b83b7caeeb60>\u001b[0m in \u001b[0;36m<module>\u001b[1;34m()\u001b[0m\n\u001b[0;32m      1\u001b[0m \u001b[0mcosSZA\u001b[0m \u001b[1;33m=\u001b[0m \u001b[0mnp\u001b[0m\u001b[1;33m.\u001b[0m\u001b[0mcos\u001b[0m\u001b[1;33m(\u001b[0m\u001b[0mnp\u001b[0m\u001b[1;33m.\u001b[0m\u001b[0mdeg2rad\u001b[0m\u001b[1;33m(\u001b[0m\u001b[0mSZA\u001b[0m\u001b[1;33m)\u001b[0m\u001b[1;33m)\u001b[0m\u001b[1;33m\u001b[0m\u001b[0m\n\u001b[1;32m----> 2\u001b[1;33m \u001b[0medn\u001b[0m \u001b[1;33m=\u001b[0m \u001b[0mnp\u001b[0m\u001b[1;33m.\u001b[0m\u001b[0mvstack\u001b[0m\u001b[1;33m(\u001b[0m\u001b[1;33m[\u001b[0m\u001b[0mthisS3Case\u001b[0m\u001b[1;33m.\u001b[0m\u001b[0medn\u001b[0m \u001b[1;32mfor\u001b[0m \u001b[0mthisS3Case\u001b[0m \u001b[1;32min\u001b[0m \u001b[0mS3allChan\u001b[0m\u001b[1;33m]\u001b[0m\u001b[1;33m)\u001b[0m \u001b[1;33m*\u001b[0m \u001b[0mS3SolarFluxMean\u001b[0m \u001b[1;33m*\u001b[0m \u001b[0mcosSZA\u001b[0m\u001b[1;33m\u001b[0m\u001b[0m\n\u001b[0m\u001b[0;32m      3\u001b[0m \u001b[0medir\u001b[0m \u001b[1;33m=\u001b[0m \u001b[0mnp\u001b[0m\u001b[1;33m.\u001b[0m\u001b[0mvstack\u001b[0m\u001b[1;33m(\u001b[0m\u001b[1;33m[\u001b[0m\u001b[0mthisS3Case\u001b[0m\u001b[1;33m.\u001b[0m\u001b[0medir\u001b[0m \u001b[1;32mfor\u001b[0m \u001b[0mthisS3Case\u001b[0m \u001b[1;32min\u001b[0m \u001b[0mS3allChan\u001b[0m\u001b[1;33m]\u001b[0m\u001b[1;33m)\u001b[0m \u001b[1;33m*\u001b[0m \u001b[0mS3SolarFluxMean\u001b[0m \u001b[1;33m*\u001b[0m \u001b[0mcosSZA\u001b[0m\u001b[1;33m\u001b[0m\u001b[0m\n\u001b[0;32m      4\u001b[0m \u001b[0mwvl\u001b[0m \u001b[1;33m=\u001b[0m \u001b[0mnp\u001b[0m\u001b[1;33m.\u001b[0m\u001b[0mvstack\u001b[0m\u001b[1;33m(\u001b[0m\u001b[1;33m[\u001b[0m\u001b[0mthisS3Case\u001b[0m\u001b[1;33m.\u001b[0m\u001b[0mwvl\u001b[0m \u001b[1;32mfor\u001b[0m \u001b[0mthisS3Case\u001b[0m \u001b[1;32min\u001b[0m \u001b[0mS3allChan\u001b[0m\u001b[1;33m]\u001b[0m\u001b[1;33m)\u001b[0m\u001b[1;33m\u001b[0m\u001b[0m\n\u001b[0;32m      5\u001b[0m \u001b[0mplt\u001b[0m\u001b[1;33m.\u001b[0m\u001b[0mfigure\u001b[0m\u001b[1;33m(\u001b[0m\u001b[0mfigsize\u001b[0m\u001b[1;33m=\u001b[0m\u001b[1;33m(\u001b[0m\u001b[1;36m16\u001b[0m\u001b[1;33m,\u001b[0m\u001b[1;36m9\u001b[0m\u001b[1;33m)\u001b[0m\u001b[1;33m)\u001b[0m\u001b[1;33m\u001b[0m\u001b[0m\n",
      "\u001b[1;31mNameError\u001b[0m: name 'S3SolarFluxMean' is not defined"
     ]
    }
   ],
   "source": [
    "cosSZA = np.cos(np.deg2rad(SZA))\n",
    "edn = np.vstack([thisS3Case.edn for thisS3Case in S3allChan]) * S3SolarFluxMean * cosSZA\n",
    "edir = np.vstack([thisS3Case.edir for thisS3Case in S3allChan]) * S3SolarFluxMean * cosSZA\n",
    "wvl = np.vstack([thisS3Case.wvl for thisS3Case in S3allChan])\n",
    "plt.figure(figsize=(16,9))\n",
    "plt.hold(True)\n",
    "plt.plot(wvl, edn, 'o', linestyle='--', marker='o') \n",
    "plt.plot(wvl, edir, 'x', linestyle='--', marker='o')\n",
    "plt.plot(wvl, edir + edn, 'x', linestyle='--', marker='o')\n",
    "plt.title('Direct, Diffuse and Total Downward Irradiance at BOA, Roodeplaat, 2016-06-05')\n",
    "plt.xlabel('Wavelength [nm]')\n",
    "plt.ylabel('Channel Radiance [$mW/m^2/nm$]')\n",
    "plt.legend(['Downward Diffuse Irradiance', 'Downward Direct Irradiance', 'Total Downward Irradiance'])\n",
    "plt.grid()"
   ]
  },
  {
   "cell_type": "code",
   "execution_count": null,
   "metadata": {
    "collapsed": false
   },
   "outputs": [],
   "source": [
    "plt.figure(figsize=(10,7))\n",
    "plt.plot(wvl, edn/(edn + edir), linestyle='--', marker='o')\n",
    "plt.title('Diffuse to Global Downward Irradiance Ratio at BOA')\n",
    "plt.xlabel('Wavelength [$nm$]')\n",
    "plt.ylabel('Diffuse to Global Irradiance Ratio')\n",
    "plt.xlim([400.0, 1000.0])\n",
    "plt.grid()"
   ]
  },
  {
   "cell_type": "code",
   "execution_count": null,
   "metadata": {
    "collapsed": false
   },
   "outputs": [],
   "source": [
    "# Here we set up the atmosphere and a basic irradiance case to copy for all OLCI channels available in REPTRAN\n",
    "# Create a blank case\n",
    "S3 = librad.Case(casename='S3toTOAon20160605')\n",
    "# Set revision of computation\n",
    "revision = '00A'\n",
    "# Build the atmospheric state\n",
    "# Choose basic atmospheric profile\n",
    "atmos_profile = '../data/atmmod/afglmw.dat'\n",
    "S3.set_option('atmosphere_file', atmos_profile)  # mid-latitude winter standard atmosphere\n",
    "\n",
    "# Modify the ozone and water vapour column amounts\n",
    "S3.set_option('mol_modify H2O', 10.5, 'MM')  # Total water vapour column in mm\n",
    "S3.set_option('mol_modify O3', 266.1, 'DU')  # Total ozone column in Dobson units\n",
    "\n",
    "# Set up dates and times\n",
    "overpass_datetime = datetime.datetime(2016, 6, 5, 7, 42, 31, tzinfo=pytz.utc)  # Overpass date and time down to second\n",
    "overpass_datestr = overpass_datetime.strftime('%Y%m%d')\n",
    "# Get the day of year\n",
    "day_of_year = int(overpass_datetime.strftime('%j'))\n",
    "S3.set_option('day_of_year', day_of_year)\n",
    "\n",
    "results_folder = 'ResultsS3on' + overpass_datestr + 'Rev' + revision\n",
    "\n",
    "# Choose band model template - will be refined later\n",
    "S3.set_option('mol_abs_param reptran_channel', 'sentinel3_olci_b??')\n",
    "\n",
    "# Choose solver\n",
    "S3.set_option('rte_solver disort')\n",
    "\n",
    "\n",
    "# Set ground altitude\n",
    "S3.set_option('altitude', 1.225)  # ground altitude in km above sea level\n",
    "\n",
    "# Set ground albedo - will be modified for albedo retrieval\n",
    "S3.set_option('albedo 0.0')\n",
    "\n",
    "# Set up aerosol model defaults\n",
    "S3.set_option('aerosol_default')\n",
    "S3.set_option('aerosol_vulcan', 1)               # Aerosol type above 2km\n",
    "S3.set_option('aerosol_haze', 5)                 # Shettle/Fenn urban aerosol\n",
    "S3.set_option('aerosol_season', 1)               # Summer season\n",
    "S3.set_option('aerosol_modify tau set ??? ???')  # To be filled in later per case\n",
    "S3.set_option('aerosol_modify ssa set ??? ???')  # To be filled in later per case\n",
    "#S3.set_option('aerosol_modify gg set ??? ???')  # To be filled in later per case\n",
    "\n",
    "S3.set_option('output_quantity reflectivity')  # Working with reflectivity and converting to radiances and irradiances\n",
    "\n",
    "# Want outputs at bottom and top of atmosphere\n",
    "S3.set_option('zout boa toa')"
   ]
  },
  {
   "cell_type": "code",
   "execution_count": null,
   "metadata": {
    "collapsed": true
   },
   "outputs": [],
   "source": [
    "# Set up MicroTOPS measurements of aerosol optical thickness\n",
    "MicroTOPSwvl = np.array([440, 500, 675, 870], dtype=np.float)  # MicroTOPS measurement wavelengths\n",
    "MicroTOPSaot = np.array([0.703, 0.615, 0.362, 0.206])  # MicroTOPS measurements\n",
    "\n",
    "# Fit King Byrne formula to MicroTOPS measurements\n",
    "alpha_0, alpha_1, alpha_2 = librad.king_byrne_formula_fit(MicroTOPSwvl, MicroTOPSaot)\n"
   ]
  },
  {
   "cell_type": "code",
   "execution_count": null,
   "metadata": {
    "collapsed": true
   },
   "outputs": [],
   "source": [
    "# Set up viewing and solar geometry. Note that these angles are taken from the S3 product and special\n",
    "# care has to be taken when putting geometry information into libRadtran\n",
    "OAA = 104.01066  # deg. Observation azimuth angle (presumably relative to north through east, satellite from dam)\n",
    "OZA = 14.151356  # deg. Observation zenith angle (satellite zenith angle as seen from the dam)\n",
    "SAA = 38.719933  # deg. Solar azimuth angle (presumably relative to north through east)\n",
    "SZA = 59.316036  # deg. Solar zenith angle"
   ]
  },
  {
   "cell_type": "code",
   "execution_count": null,
   "metadata": {
    "collapsed": true
   },
   "outputs": [],
   "source": [
    "# Create list of S3/OLCI channel wavelength - will not use band 1 - there is no REPTRAN data\n",
    "S3olciChannelNumbers = range(2,22)  # Bands 2 to 21\n",
    "S3olciChannels = ['sentinel3_olci_b' + '%02d' % S3olciChannelNumber for S3olciChannelNumber in S3olciChannelNumbers]\n",
    "# List for all Sentinel 3 OLCI channel centre wavelengths\n",
    "AllS3olciWavelengths = np.array([\n",
    "       [  412.5],\n",
    "       [  442.5],\n",
    "       [  490.0],\n",
    "       [  510.0],\n",
    "       [  560.0],\n",
    "       [  620.0],\n",
    "       [  665.0],\n",
    "       [  673.75],\n",
    "       [  681.25],\n",
    "       [  708.75],\n",
    "       [  753.75],\n",
    "       [  761.25],\n",
    "       [  764.375],\n",
    "       [  767.5],\n",
    "       [  778.75],\n",
    "       [  865.0],\n",
    "       [  885.0],\n",
    "       [  900.0 ],\n",
    "       [  940.0],\n",
    "       [ 1020.0]])\n",
    "# Compute best fit King Byrne AOT at the representative wavelengths\n",
    "KingByrneAOTatOLCI = librad.king_byrne_formula(AllS3olciWavelengths, alpha_0, alpha_1, alpha_2)"
   ]
  },
  {
   "cell_type": "code",
   "execution_count": null,
   "metadata": {
    "collapsed": true
   },
   "outputs": [],
   "source": [
    "# Create a list of runs where the solar zenith angle (SZA) is set to the observation zenith angle (OZA)\n",
    "# This list of uvspec runs will only be for computation of the observation path transmittance\n",
    "# Create a list of cases, one for each S3 channel\n",
    "import copy\n",
    "S3allChan = [copy.deepcopy(S3) for S3olciChannel in S3olciChannels]\n",
    "for iCase, S3Case in enumerate(S3allChan):\n",
    "    S3Case.set_option('mol_abs_param reptran_channel', S3olciChannels[iCase])\n",
    "    S3Case.name = 'S3toTOAon20160605' + S3olciChannels[iCase]\n",
    "    S3Case.set_option('aerosol_modify tau set', KingByrneAOTatOLCI[iCase])\n",
    "    S3Case.set_option('aerosol_modify ssa set', SSAatS3wvl[iCase])\n",
    "    #S3Case.set_option('aerosol_modify gg set', AssymAtS3wvl[iCase])\n",
    "    S3Case.set_option('sza', OZA)  # This is not a mistake - want to compute transmittance along sightline"
   ]
  },
  {
   "cell_type": "code",
   "execution_count": null,
   "metadata": {
    "collapsed": false
   },
   "outputs": [],
   "source": [
    "# Take a look at one of the cases\n",
    "S3allChan[5]"
   ]
  },
  {
   "cell_type": "code",
   "execution_count": null,
   "metadata": {
    "collapsed": false
   },
   "outputs": [],
   "source": [
    "# Create the ipyparallel client and contact the hub/controller using the relevant security profile and\n",
    "# credentials\n",
    "# This will cause ipyparall to look in ~/.ipython/profile_????/security for a file named ipcontroller_client.json.\n",
    "# This file is generated by the hub/controller process when started using the ipcluster or ipcontroller command and\n",
    "# it may need to be copied from the host running the hub/controller to the machine running the client.\n",
    "#\n",
    "paraclient = Client(profile=security_profile, sshserver=username + '@' + server, password=user_password)\n",
    "# Obtain a \"load-balanced\" view of the engine cluster\n",
    "paraview = paraclient.load_balanced_view()\n",
    "# Set the view to blocking mode, which means that we wait for all engines to complete the task before\n",
    "# control is returned to the client\n",
    "paraview.block = True\n",
    "# We will use dill instead of the standard pickle so that we can send instance methods to engines\n",
    "paraclient[:].use_dill()"
   ]
  },
  {
   "cell_type": "code",
   "execution_count": null,
   "metadata": {
    "collapsed": true
   },
   "outputs": [],
   "source": [
    "# Now try to run the batch on the cluster\n",
    "S3allChan = paraview.map(librad.Case.run, S3allChan)"
   ]
  },
  {
   "cell_type": "code",
   "execution_count": null,
   "metadata": {
    "collapsed": false
   },
   "outputs": [],
   "source": [
    "# Check the return codes - zeros across the board means all is well (generally)\n",
    "print [thisS3Case.run_return_code for thisS3Case in S3allChan]"
   ]
  },
  {
   "cell_type": "code",
   "execution_count": null,
   "metadata": {
    "collapsed": false
   },
   "outputs": [],
   "source": [
    "# Can also check the standard error output to diagnose possible problems\n",
    "S3allChan[0].stderr"
   ]
  },
  {
   "cell_type": "code",
   "execution_count": null,
   "metadata": {
    "collapsed": false
   },
   "outputs": [],
   "source": [
    "# Next retrieve area-averaged albedo from S3 product\n",
    "# Set filename for area pixels extracted from SNAP\n",
    "import pandas as pd\n",
    "AreaSNAPpixelFile = r'../Data/Sentinel3/S3A_OL_1_EFR____20160605T074147_20160605T074447_20160606T174711_0180_005_049_3419_LN1_O_NT_001_geometry_MaskAARev003.txt'\n",
    "AreaSNAPpixelData = pd.read_csv(AreaSNAPpixelFile, sep='\\t', header=5)"
   ]
  },
  {
   "cell_type": "code",
   "execution_count": null,
   "metadata": {
    "collapsed": false
   },
   "outputs": [],
   "source": [
    "# Obtain S3 radiances from file for area-averaging\n",
    "S3RadChannelsAA = AreaSNAPpixelData.filter(regex=\"Oa[0-9][0-9]_radiance\")\n",
    "# Want to exclude 400 nm band\n",
    "S3RadChannelsAA = S3RadChannelsAA.drop('Oa01_radiance', 1)"
   ]
  },
  {
   "cell_type": "code",
   "execution_count": null,
   "metadata": {
    "collapsed": false
   },
   "outputs": [],
   "source": [
    "# Calculate mean radiances and convert to np array\n",
    "S3MeanRadChannelsAA = np.vstack(S3RadChannelsAA.mean(axis=0))"
   ]
  },
  {
   "cell_type": "code",
   "execution_count": null,
   "metadata": {
    "collapsed": false
   },
   "outputs": [],
   "source": [
    "# Plot area-averaged S3 radiances centred on Rietvlei\n",
    "plt.figure(figsize=(9,7))\n",
    "plt.plot(AllS3olciWavelengths, S3MeanRadChannelsAA, linestyle='--', marker='o', color='b')\n",
    "plt.title('Area-Averaged Radiance Measured over Roodeplaat on 2016-06-05')\n",
    "plt.xlabel('Wavelength [nm]')\n",
    "plt.ylabel('Area-Averaged Radiance from S3 [$mw/m^2/sr/nm$]')\n",
    "plt.grid()"
   ]
  },
  {
   "cell_type": "code",
   "execution_count": null,
   "metadata": {
    "collapsed": false
   },
   "outputs": [],
   "source": [
    "# Check out the solar fluxes in the area data\n",
    "S3SolarFlux = AreaSNAPpixelData.filter(regex=\"solar_flux_band_[0-9][0-9]?\")\n",
    "# Want to exclude 400 nm band\n",
    "S3SolarFlux = S3SolarFlux.drop('solar_flux_band_1', 1)\n",
    "# Calculate mean solar and convert to np array\n",
    "S3SolarFluxMean = np.vstack(S3SolarFlux.mean(axis=0))"
   ]
  },
  {
   "cell_type": "code",
   "execution_count": null,
   "metadata": {
    "collapsed": false,
    "scrolled": false
   },
   "outputs": [],
   "source": [
    "plt.figure(figsize=(12,8))\n",
    "plt.plot(AllS3olciWavelengths, S3SolarFluxMean, linestyle='--', marker='o')\n",
    "plt.title('Mean S3 Overpass Solar Flux at Roodeplaat on 2016-06-05')\n",
    "plt.xlabel('Wavelength [nm]')\n",
    "plt.ylabel('Solar Flux [$mW/m^2/nm$]')\n",
    "plt.grid()"
   ]
  },
  {
   "cell_type": "code",
   "execution_count": null,
   "metadata": {
    "collapsed": false
   },
   "outputs": [],
   "source": [
    "edir_toa = np.vstack([S3Chan.edir[0][1] for S3Chan in S3allChan]) * S3SolarFluxMean  # Multiply by TOA horizontal solar irradiance\n",
    "edir_boa = np.vstack([S3Chan.edir[0][0] for S3Chan in S3allChan]) * S3SolarFluxMean\n",
    "wvl = np.vstack([thisS3Case.wvl for thisS3Case in S3allChan])\n",
    "plt.plot(wvl, edir_toa)"
   ]
  },
  {
   "cell_type": "code",
   "execution_count": null,
   "metadata": {
    "collapsed": false
   },
   "outputs": [],
   "source": [
    "S3SolarFluxMean.shape\n",
    "S3allChan[0].edir"
   ]
  },
  {
   "cell_type": "code",
   "execution_count": null,
   "metadata": {
    "collapsed": false
   },
   "outputs": [],
   "source": [
    "# Compute the transmission of the satellite sightline\n",
    "path_transmission = edir_boa / edir_toa"
   ]
  },
  {
   "cell_type": "code",
   "execution_count": null,
   "metadata": {
    "collapsed": false
   },
   "outputs": [],
   "source": [
    "plt.figure(figsize=(10,7))\n",
    "plt.plot(wvl, path_transmission, linestyle='--', marker='o', color='b')\n",
    "plt.title('Satellite Sightline Atmospheric Transmittance, S3, Roodeplaat, 2016-06-05')\n",
    "plt.xlabel('Wavelength [nm]')\n",
    "plt.ylabel('Transmittance')\n",
    "plt.grid()"
   ]
  },
  {
   "cell_type": "code",
   "execution_count": null,
   "metadata": {
    "collapsed": false
   },
   "outputs": [],
   "source": [
    "# Compute transmittance using output_quantity\n",
    "# This is merely to see if there is any difference to previous method\n",
    "for S3Case in S3allChan:\n",
    "    S3Case.set_option('output_quantity transmittance')"
   ]
  },
  {
   "cell_type": "code",
   "execution_count": null,
   "metadata": {
    "collapsed": false
   },
   "outputs": [],
   "source": [
    "S3allChan[0]"
   ]
  },
  {
   "cell_type": "code",
   "execution_count": null,
   "metadata": {
    "collapsed": true
   },
   "outputs": [],
   "source": [
    "# Now try to run the batch on the cluster\n",
    "S3allChan = paraview.map(librad.Case.run, S3allChan)"
   ]
  },
  {
   "cell_type": "code",
   "execution_count": null,
   "metadata": {
    "collapsed": false
   },
   "outputs": [],
   "source": [
    "# Check the return codes - zeros across the board means all is well (generally)\n",
    "print [thisS3Case.run_return_code for thisS3Case in S3allChan]"
   ]
  },
  {
   "cell_type": "code",
   "execution_count": null,
   "metadata": {
    "collapsed": true
   },
   "outputs": [],
   "source": [
    "# Compile the direct irradiance expressed as transmittance/reflectance\n",
    "edir_toa1 = np.vstack([S3Chan.edir[0][1] for S3Chan in S3allChan])\n",
    "edir_boa1 = np.vstack([S3Chan.edir[0][0] for S3Chan in S3allChan])\n",
    "wvl1 = np.vstack([thisS3Case.wvl for thisS3Case in S3allChan])"
   ]
  },
  {
   "cell_type": "code",
   "execution_count": null,
   "metadata": {
    "collapsed": false
   },
   "outputs": [],
   "source": [
    "# Plot the errors - there seems to be a 3% difference - unexplained\n",
    "plt.plot(wvl, 100.0*(edir_boa1 - path_transmission) / path_transmission, 'o')\n"
   ]
  },
  {
   "cell_type": "code",
   "execution_count": null,
   "metadata": {
    "collapsed": true
   },
   "outputs": [],
   "source": [
    "# Set up radiance runs with multiple albedos and correct goemtry\n",
    "S3Radiance = copy.deepcopy(S3)\n",
    "S3Radiance.set_option('sza', SZA)  # deg. This one is straightforward\n",
    "# Now when entering solar and observation zenith angles, it is necessary to provide the azimuth of light propagation\n",
    "# rather than the azimuth of the view direction, which is 180 deg different\n",
    "S3Radiance.set_option('phi0', 180.0 - SAA)  # solar radiation propagation azimuth from north through east\n",
    "S3Radiance.set_option('phi', OAA)  # This is the azimuth of the satellite as seen from the target - also azimuth of light propgation\n",
    "S3Radiance.set_option('umu', np.cos(np.deg2rad(OZA))) # For downward-looking (upward propagating), check that umu is positive"
   ]
  },
  {
   "cell_type": "code",
   "execution_count": null,
   "metadata": {
    "collapsed": false
   },
   "outputs": [],
   "source": [
    "S3Radiance"
   ]
  },
  {
   "cell_type": "code",
   "execution_count": null,
   "metadata": {
    "collapsed": true
   },
   "outputs": [],
   "source": [
    "# Choose a number of albedos at which to run the retrieval\n",
    "Albedos = np.linspace(0.0, 0.3, 4)\n",
    "S3allChanRad = [[copy.deepcopy(S3Radiance) for S3olciChannel in S3olciChannels] for Albedo in Albedos]"
   ]
  },
  {
   "cell_type": "code",
   "execution_count": null,
   "metadata": {
    "collapsed": false
   },
   "outputs": [],
   "source": [
    "# Set the albedos and aerosol optical depths\n",
    "for iAlb, Albedo in enumerate(Albedos):\n",
    "    for iCase, S3Case in enumerate(S3allChanRad[iAlb]):\n",
    "        S3Case.set_option('mol_abs_param reptran_channel', S3olciChannels[iCase])\n",
    "        S3Case.name = 'S3toTOAon20160605' + S3olciChannels[iCase]\n",
    "        S3Case.set_option('aerosol_modify tau set', KingByrneAOTatOLCI[iCase])\n",
    "        S3Case.set_option('aerosol_modify ssa set', SSAatS3wvl[iCase])\n",
    "        #S3Case.set_option('aerosol_modify gg set', AssymAtS3wvl[iCase])\n",
    "        S3Case.set_option('albedo', Albedo)"
   ]
  },
  {
   "cell_type": "code",
   "execution_count": null,
   "metadata": {
    "collapsed": false
   },
   "outputs": [],
   "source": [
    "# Display an example\n",
    "S3allChanRad[1][0]"
   ]
  },
  {
   "cell_type": "code",
   "execution_count": null,
   "metadata": {
    "collapsed": true
   },
   "outputs": [],
   "source": [
    "# Test run for a set of albedos\n",
    "S3allChanRad[0] = paraview.map(librad.Case.run, S3allChanRad[0])"
   ]
  },
  {
   "cell_type": "code",
   "execution_count": null,
   "metadata": {
    "collapsed": false
   },
   "outputs": [],
   "source": [
    "# Now try to run the entire batch on the cluster\n",
    "for iAlb, Albedo in enumerate(Albedos):\n",
    "    S3allChanRad[iAlb] = paraview.map(librad.Case.run, S3allChanRad[iAlb])"
   ]
  },
  {
   "cell_type": "code",
   "execution_count": null,
   "metadata": {
    "collapsed": false
   },
   "outputs": [],
   "source": [
    "# Extract radiance results from all runs (all surface albedo values and all S3 channels)\n",
    "RadTOA = np.hstack([np.vstack([S3allChanRad[iAlb][iChan].uu.squeeze()[1] for iAlb in range(len(Albedos))] \n",
    "                for iChan in range(len(AllS3olciWavelengths)))]) * S3SolarFluxMean * cosSZA / np.pi"
   ]
  },
  {
   "cell_type": "code",
   "execution_count": null,
   "metadata": {
    "collapsed": false
   },
   "outputs": [],
   "source": [
    "# Plot the predicted radiances at TOA for various albedo levels together with actual measurements from S3\n",
    "plt.figure(figsize=(9,7))\n",
    "plt.hold(True)\n",
    "for iAlb, Albedo in enumerate(Albedos):\n",
    "    plt.plot(AllS3olciWavelengths, RadTOA[:, iAlb],  linestyle='--', marker='o')\n",
    "plt.plot(AllS3olciWavelengths, S3MeanRadChannelsAA, linestyle='--', marker='o', color='k')\n",
    "plt.title('Modelled and Measured TOA Radiances over Roodeplaat on 2016-06-05')\n",
    "plt.xlabel('Wavelength [nm]')\n",
    "plt.ylabel('TOA Radiance [$mw/m^2/sr/nm$]')\n",
    "# Build the legends\n",
    "theLegends = ['Albedo = ' + str(Albedo) for Albedo in Albedos]\n",
    "plt.legend(theLegends + ['S3 Measured'])\n",
    "plt.grid()"
   ]
  },
  {
   "cell_type": "code",
   "execution_count": null,
   "metadata": {
    "collapsed": false
   },
   "outputs": [],
   "source": [
    "# Check linearity - linearity looks good between albedo of 0.0 and 0.3\n",
    "# As with MODTRAN, there is some deviation from linearity at higher albedos\n",
    "plt.figure(figsize=(9,7))\n",
    "plt.plot(Albedos, RadTOA.T, linestyle='--', marker='o')\n",
    "plt.title('Linearity of Predicted S3 Radiance with respect to Surface Albedo')\n",
    "plt.xlabel('Albedo')\n",
    "plt.ylabel('Radiance [$mw/m^2/sr/nm$]')\n",
    "plt.grid()"
   ]
  },
  {
   "cell_type": "code",
   "execution_count": null,
   "metadata": {
    "collapsed": false
   },
   "outputs": [],
   "source": [
    "# Calculate area-averaged surface albedo by interpolating in albedo to the actual measured S3 radiances\n",
    "RetrievedSurfAlbedo = np.zeros(AllS3olciWavelengths.size)\n",
    "for iChn in range(len(AllS3olciWavelengths)):\n",
    "    RetrievedSurfAlbedo[iChn] = np.interp(S3MeanRadChannelsAA[iChn], RadTOA[iChn, :], Albedos)\n",
    "    \n",
    "### Manipulate the surface reflectance in the blue by hand to observe the effect on the output"
   ]
  },
  {
   "cell_type": "code",
   "execution_count": null,
   "metadata": {
    "collapsed": false
   },
   "outputs": [],
   "source": [
    "# Plot the retrieved albedos - overall shape very similar to MODTRAN retrieval\n",
    "# Band 3 (second point, at 442.5 nm) is artificially high, suspected to be a solar TOA spectrum issue\n",
    "plt.figure(figsize=(9,7))\n",
    "plt.plot(AllS3olciWavelengths, RetrievedSurfAlbedo, linestyle='--', marker='o')\n",
    "plt.title('Retrieved Surface Equivalent Lambertian Albedo, Roodeplaat, 2016-06-05')\n",
    "plt.xlim([400.0, 900.0])\n",
    "plt.xlabel('Wavelength [nm]')\n",
    "plt.ylabel('Albedo')\n",
    "plt.grid()"
   ]
  },
  {
   "cell_type": "code",
   "execution_count": null,
   "metadata": {
    "collapsed": false
   },
   "outputs": [],
   "source": [
    "# Now set up the runs with retrieved albedos to get downwelling spectral irradiance at the surface\n",
    "for iCase, Case in enumerate(S3allChan):\n",
    "    Case.set_option('albedo', RetrievedSurfAlbedo[iCase])\n",
    "    Case.set_option('sza', SZA)\n",
    "    Case.set_option('output_quantity reflectivity')"
   ]
  },
  {
   "cell_type": "code",
   "execution_count": null,
   "metadata": {
    "collapsed": false
   },
   "outputs": [],
   "source": [
    "S3allChan[1]"
   ]
  },
  {
   "cell_type": "code",
   "execution_count": null,
   "metadata": {
    "collapsed": false
   },
   "outputs": [],
   "source": [
    "# Run the irradiance cases and check the return codes\n",
    "S3allChan = paraview.map(librad.Case.run, S3allChan)\n",
    "print [S3Chan.run_return_code for S3Chan in S3allChan]"
   ]
  },
  {
   "cell_type": "code",
   "execution_count": null,
   "metadata": {
    "collapsed": true
   },
   "outputs": [],
   "source": [
    "# Extract the irradiances\n",
    "edir_toa = np.vstack([S3Chan.edir[0][1] for S3Chan in S3allChan]) * S3SolarFluxMean * cosSZA\n",
    "edir_boa = np.vstack([S3Chan.edir[0][0] for S3Chan in S3allChan]) *  S3SolarFluxMean * cosSZA\n",
    "edn_toa = np.vstack([S3Chan.edn[0][1] for S3Chan in S3allChan]) * S3SolarFluxMean * cosSZA\n",
    "edn_boa = np.vstack([S3Chan.edn[0][0] for S3Chan in S3allChan]) * S3SolarFluxMean * cosSZA"
   ]
  },
  {
   "cell_type": "code",
   "execution_count": null,
   "metadata": {
    "collapsed": true
   },
   "outputs": [],
   "source": [
    "total_edn_toa = edir_toa + edn_toa\n",
    "total_edn_boa = edir_boa + edn_boa"
   ]
  },
  {
   "cell_type": "code",
   "execution_count": null,
   "metadata": {
    "collapsed": false
   },
   "outputs": [],
   "source": [
    "plt.plot(AllS3olciWavelengths, total_edn_boa,  linestyle='--', marker='o')"
   ]
  },
  {
   "cell_type": "code",
   "execution_count": null,
   "metadata": {
    "collapsed": true
   },
   "outputs": [],
   "source": [
    "# Read R_rs for above-water measurements on 2016-06-05\n",
    "R_rs = np.genfromtxt('../Data/Rrs/Roodeplaat_ASD_rrs.txt')"
   ]
  },
  {
   "cell_type": "code",
   "execution_count": null,
   "metadata": {
    "collapsed": false
   },
   "outputs": [],
   "source": [
    "wvlR_rs = R_rs[:, 0]\n",
    "R_rs = R_rs[:, [1,3,5,7]]"
   ]
  },
  {
   "cell_type": "code",
   "execution_count": null,
   "metadata": {
    "collapsed": false
   },
   "outputs": [],
   "source": [
    "plt.plot(wvlR_rs, R_rs)"
   ]
  },
  {
   "cell_type": "code",
   "execution_count": null,
   "metadata": {
    "collapsed": false
   },
   "outputs": [],
   "source": [
    "# Compute R_rs at the S3 wavelengths - this is a bit crude\n",
    "R_rsS3wvl = np.interp(AllS3olciWavelengths, wvlR_rs, R_rs.mean(axis=1))"
   ]
  },
  {
   "cell_type": "code",
   "execution_count": null,
   "metadata": {
    "collapsed": false
   },
   "outputs": [],
   "source": [
    "# Plot R_rs at S3 wavelengths\n",
    "plt.plot(AllS3olciWavelengths, R_rsS3wvl)"
   ]
  },
  {
   "cell_type": "code",
   "execution_count": null,
   "metadata": {
    "collapsed": false
   },
   "outputs": [],
   "source": [
    "# Compute and plot the water-leaving radiance\n",
    "L_w = R_rsS3wvl * total_edn_toa\n",
    "plt.plot(AllS3olciWavelengths, L_w)"
   ]
  },
  {
   "cell_type": "code",
   "execution_count": null,
   "metadata": {
    "collapsed": true
   },
   "outputs": [],
   "source": [
    "# Set up the sky radiance run to compute the water-reflected radiance\n",
    "# The BOA radiance looking upward at the sky must be computed.\n",
    "# Add 180 degrees to the azimuth\n",
    "for iCase, Case in enumerate(S3allChan):\n",
    "    Case.set_option('phi0', 180.0 - SAA)  # solar radiation propagation azimuth from north through east\n",
    "    Case.set_option('phi', 180.0 - OAA)  # Swing observation azimuth through 180 degrees compared to downward-looking case\n",
    "    Case.set_option('umu', np.cos(np.deg2rad(180.0-OZA))) # For upward-looking (downward propagating), check that umu is negative\n",
    "    "
   ]
  },
  {
   "cell_type": "code",
   "execution_count": null,
   "metadata": {
    "collapsed": false
   },
   "outputs": [],
   "source": [
    "S3allChan[0]"
   ]
  },
  {
   "cell_type": "code",
   "execution_count": null,
   "metadata": {
    "collapsed": false
   },
   "outputs": [],
   "source": [
    "# Run the cases and get the upward-looking radiance at BOA\n",
    "S3allChan = paraview.map(librad.Case.run, S3allChan)\n",
    "print [S3Chan.run_return_code for S3Chan in S3allChan]"
   ]
  },
  {
   "cell_type": "code",
   "execution_count": null,
   "metadata": {
    "collapsed": false
   },
   "outputs": [],
   "source": [
    "sky_radiance = np.vstack([S3Chan.uu.squeeze()[0] for S3Chan in S3allChan]) * S3SolarFluxMean * cosSZA / np.pi\n"
   ]
  },
  {
   "cell_type": "code",
   "execution_count": null,
   "metadata": {
    "collapsed": false
   },
   "outputs": [],
   "source": [
    "plt.plot(AllS3olciWavelengths, sky_radiance)"
   ]
  },
  {
   "cell_type": "code",
   "execution_count": null,
   "metadata": {
    "collapsed": false
   },
   "outputs": [],
   "source": [
    "water_reflectance = 0.02  # Obtained from Mobley tables - need to get this value per situation\n",
    "water_reflected_radiance = sky_radiance * water_reflectance\n",
    "plt.hold(True)\n",
    "plt.plot(AllS3olciWavelengths, water_reflected_radiance, linestyle='--', marker='o')\n",
    "plt.plot(AllS3olciInternalWavelengths, L_w, linestyle='--', marker='x')"
   ]
  },
  {
   "cell_type": "code",
   "execution_count": null,
   "metadata": {
    "collapsed": true
   },
   "outputs": [],
   "source": [
    "L_w_atTOA = L_w * path_transmission\n",
    "water_reflected_radiance_atTOA = path_transmission"
   ]
  },
  {
   "cell_type": "code",
   "execution_count": null,
   "metadata": {
    "collapsed": false
   },
   "outputs": [],
   "source": [
    "plt.hold(True)\n",
    "plt.plot(AllS3olciWavelengths, water_reflected_radiance_atTOA, linestyle='--', marker='o')\n",
    "plt.plot(AllS3olciInternalWavelengths, L_w_atTOA, linestyle='--', marker='x')"
   ]
  },
  {
   "cell_type": "code",
   "execution_count": null,
   "metadata": {
    "collapsed": true
   },
   "outputs": [],
   "source": [
    "# Set up the downward-looking radiance run with area-averaged reflectance\n",
    "for iCase, Case in enumerate(S3allChan):\n",
    "    Case.set_option('phi0', 180.0 - SAA)  # solar radiation propagation azimuth from north through east\n",
    "    Case.set_option('phi', OAA)  # Swing observation azimuth through 180 degrees compared to downward-looking case\n",
    "    Case.set_option('umu', np.cos(np.deg2rad(OZA))) # For upward-looking (downward propagating), check that umu is negative\n",
    "    "
   ]
  },
  {
   "cell_type": "code",
   "execution_count": null,
   "metadata": {
    "collapsed": false
   },
   "outputs": [],
   "source": [
    "# Print a sample\n",
    "S3allChan[0]"
   ]
  },
  {
   "cell_type": "code",
   "execution_count": null,
   "metadata": {
    "collapsed": false
   },
   "outputs": [],
   "source": [
    "# Run the cases and get the downward-looking radiance at BOA and at TOA\n",
    "S3allChan = paraview.map(librad.Case.run, S3allChan)\n",
    "print [S3Chan.run_return_code for S3Chan in S3allChan]"
   ]
  },
  {
   "cell_type": "code",
   "execution_count": null,
   "metadata": {
    "collapsed": true
   },
   "outputs": [],
   "source": [
    "# Compile the BOA and TOA Radiances\n",
    "BOA_radiance = np.vstack([S3Chan.uu.squeeze()[0] for S3Chan in S3allChan]) * S3SolarFluxMean * cosSZA / np.pi\n",
    "TOA_radiance = np.vstack([S3Chan.uu.squeeze()[1] for S3Chan in S3allChan]) * S3SolarFluxMean * cosSZA / np.pi"
   ]
  },
  {
   "cell_type": "code",
   "execution_count": null,
   "metadata": {
    "collapsed": false
   },
   "outputs": [],
   "source": [
    "plt.hold(True)\n",
    "plt.plot(AllS3olciWavelengths, BOA_radiance, linestyle='--', marker='o')\n",
    "plt.plot(AllS3olciWavelengths, TOA_radiance, linestyle='--', marker='o')"
   ]
  },
  {
   "cell_type": "code",
   "execution_count": null,
   "metadata": {
    "collapsed": true
   },
   "outputs": [],
   "source": [
    "# Compute TOA radiance minus the BOA radiance multiplied by the transmittance to\n",
    "# get atmospheric path radiance\n",
    "atm_path_radiance = TOA_radiance - BOA_radiance * path_transmission"
   ]
  },
  {
   "cell_type": "code",
   "execution_count": null,
   "metadata": {
    "collapsed": false
   },
   "outputs": [],
   "source": [
    "plt.plot(AllS3olciWavelengths, atm_path_radiance, linestyle='--', marker='o')"
   ]
  },
  {
   "cell_type": "code",
   "execution_count": null,
   "metadata": {
    "collapsed": false
   },
   "outputs": [],
   "source": [
    "# Compute total radiance at TOA and compare to S3 radiances for selected pixel\n",
    "total_radiance_atTOA = atm_path_radiance + L_w_atTOA + water_reflected_radiance_atTOA\n",
    "plt.plot(AllS3olciWavelengths, total_radiance_atTOA, linestyle='--', marker='o')"
   ]
  },
  {
   "cell_type": "code",
   "execution_count": null,
   "metadata": {
    "collapsed": false
   },
   "outputs": [],
   "source": [
    "# Read the \"best\" S3 pixel for the day\n",
    "WaterSNAPpixelFile = r'../Data/Sentinel3/S3_0605_Roodeplaat_data.txt'\n",
    "WaterSNAPpixelData = pd.read_csv(WaterSNAPpixelFile, sep='\\t', header=5)"
   ]
  },
  {
   "cell_type": "code",
   "execution_count": null,
   "metadata": {
    "collapsed": false
   },
   "outputs": [],
   "source": [
    "WaterSNAPpixelData"
   ]
  },
  {
   "cell_type": "code",
   "execution_count": null,
   "metadata": {
    "collapsed": false
   },
   "outputs": [],
   "source": [
    "# Obtain S3 radiances\n",
    "S3RadChannelsWater = WaterSNAPpixelData.filter(regex=\"Oa[0-9][0-9]_radiance\")\n",
    "# Want to exclude 400 nm band\n",
    "S3RadChannelsWater = S3RadChannelsWater.drop('Oa01_radiance', 1)\n",
    "S3RadallChanWater = np.vstack(S3RadChannelsWater.mean(axis=0))"
   ]
  },
  {
   "cell_type": "code",
   "execution_count": null,
   "metadata": {
    "collapsed": false
   },
   "outputs": [],
   "source": [
    "S3RadChannelsWater"
   ]
  },
  {
   "cell_type": "code",
   "execution_count": null,
   "metadata": {
    "collapsed": false
   },
   "outputs": [],
   "source": [
    "plt.hold(True)\n",
    "plt.plot(AllS3olciWavelengths[0:-1], np.array(S3RadallChanWater), linestyle='--', marker='o')\n",
    "plt.plot(AllS3olciWavelengths, total_radiance_atTOA, linestyle='--', marker='o')"
   ]
  },
  {
   "cell_type": "code",
   "execution_count": null,
   "metadata": {
    "collapsed": true
   },
   "outputs": [],
   "source": [
    "# Retrieve water-leaving radiance\n",
    "retrieved_Lw_atTOA = S3RadallChanWater - atm_path_radiance[0:-1] - water_reflected_radiance_atTOA[0:-1]\n",
    "retrieved_Lw_atBOA = retrieved_Lw_atTOA / path_transmission[0:-1]"
   ]
  },
  {
   "cell_type": "code",
   "execution_count": null,
   "metadata": {
    "collapsed": false
   },
   "outputs": [],
   "source": [
    "plt.figure(figsize=(16,9))\n",
    "plt.hold(True)\n",
    "plt.plot(AllS3olciWavelengths[0:-1], retrieved_Lw_atBOA, linestyle='--', marker='o')\n",
    "plt.plot(AllS3olciWavelengths, L_w, linestyle='--', marker='o')\n",
    "plt.grid()"
   ]
  },
  {
   "cell_type": "code",
   "execution_count": null,
   "metadata": {
    "collapsed": true
   },
   "outputs": [],
   "source": []
  }
 ],
 "metadata": {
  "anaconda-cloud": {},
  "kernelspec": {
   "display_name": "Python [mordevpy27]",
   "language": "python",
   "name": "Python [mordevpy27]"
  },
  "language_info": {
   "codemirror_mode": {
    "name": "ipython",
    "version": 2
   },
   "file_extension": ".py",
   "mimetype": "text/x-python",
   "name": "python",
   "nbconvert_exporter": "python",
   "pygments_lexer": "ipython2",
   "version": "2.7.12"
  }
 },
 "nbformat": 4,
 "nbformat_minor": 0
}
