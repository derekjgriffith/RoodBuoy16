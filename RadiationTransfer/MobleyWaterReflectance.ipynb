{
 "cells": [
  {
   "cell_type": "code",
   "execution_count": 64,
   "metadata": {
    "collapsed": true
   },
   "outputs": [],
   "source": [
    "import numpy as np\n",
    "import scipy.io\n",
    "import xarray as xr\n",
    "from scipy.interpolate import interpn"
   ]
  },
  {
   "cell_type": "code",
   "execution_count": 5,
   "metadata": {
    "collapsed": true
   },
   "outputs": [],
   "source": [
    "# Read the sea surface reflectance factors by Mobley\n",
    "# The header in the file reads as follows :\n",
    "#  Table of rho values created with FFT surfaces and polarized ray tracing as described in\n",
    "#    Mobley, C.D., 2015.  Polarized Reflectance and Transmittance Properties of Wind-blown Sea Surfaces,\n",
    "#    Applied Optics (in review)\n",
    "#  NOTE: This is a preliminary table for use during review of the above paper.\n",
    "#    These rho values are for fully developed seas, sun's direct rays parallel to the wind direction,\n",
    "#    a Rayleigh, single-scattering sky at 550 nm, and wind speeds of 0, 2, 4, 5, 6, 8, 10, 12, 14, and 15 m/s.\n",
    "#    The final table will be placed online once the above paper has been accepted for publication.\n",
    "#  rho is computed from the I components of the Stokes radiance vectors: rho = I(surface reflected)/I(sky) [nondimensional]\n",
    "#  Theta_v is the polar viewing angle measured from 0 at the nadir in degrees.\n",
    "#  Phi_v is the azimuthal viewing angle measured from the sun at phi_v = 0\n",
    "#  in degrees.\n",
    "#  Looping order is\n",
    "#     wind speed\n",
    "#        sun zenith angle\n",
    "#           theta_v\n",
    "#              phi_v\n",
    "#  Data blocks of 118 theta_v, phi_v, rho(theta_v, phi_v) records on an (f7.1,f9.1,e15.4) format are separated by \n",
    "#   records giving the wind speed and sun zenith angle on an (12x,f5.1,20x,f5.1) format.\n",
    "#-------------------------------\n",
    "# Theta_v    Phi_v       rho\n",
    "#-------------------------------\n",
    "#WIND SPEED =  0.0; SUN ZENITH ANGLE =  0.0\n",
    "mat = scipy.io.loadmat('../Data/WaterReflectance/MobleySeaSurfaceRho2015.mat')"
   ]
  },
  {
   "cell_type": "code",
   "execution_count": 33,
   "metadata": {
    "collapsed": false
   },
   "outputs": [
    {
     "data": {
      "text/plain": [
       "(13L, 10L, 10L, 10L)"
      ]
     },
     "execution_count": 33,
     "metadata": {},
     "output_type": "execute_result"
    }
   ],
   "source": [
    "# Data is a 4-dimensional array\n",
    "# Data table is indexed as follows\n",
    "mat['SeaSurfRho'][0,0][0].shape"
   ]
  },
  {
   "cell_type": "code",
   "execution_count": 66,
   "metadata": {
    "collapsed": false
   },
   "outputs": [],
   "source": [
    "# Order of axes is :\n",
    "# Phi-v (azimuthal viewing angle relative to sun in degrees),\n",
    "# Theta-v (polar viewing angle measured from nadir in degrees)\n",
    "# SZA (solar zenith angle in degrees)\n",
    "# Windspeed (metres per second)\n",
    "mobley_sea_sur_refl = mat['SeaSurfRho'][0,0][0]\n",
    "Theta_v = np.asarray(mat['SeaSurfRho'][0,0][1], dtype=np.float).squeeze()\n",
    "Phi_v = np.asarray(mat['SeaSurfRho'][0,0][2], dtype=np.float).squeeze()\n",
    "SZA = np.asarray(mat['SeaSurfRho'][0,0][3], dtype=np.float).squeeze()\n",
    "Windspeed = np.asarray(mat['SeaSurfRho'][0,0][4], dtype=np.float).squeeze()\n",
    "Reference = mat['SeaSurfRho'][0,0][5]\n",
    "AxisDefinitions = mat['SeaSurfRho'][0,0][6]\n",
    "AxisOrder = mat['SeaSurfRho'][0,0][7]\n",
    "AxisUnits = mat['SeaSurfRho'][0,0][8]"
   ]
  },
  {
   "cell_type": "code",
   "execution_count": 67,
   "metadata": {
    "collapsed": false
   },
   "outputs": [
    {
     "data": {
      "text/plain": [
       "array([   0.,   15.,   30.,   45.,   60.,   75.,   90.,  105.,  120.,\n",
       "        135.,  150.,  165.,  180.])"
      ]
     },
     "execution_count": 67,
     "metadata": {},
     "output_type": "execute_result"
    }
   ],
   "source": [
    "Phi_v"
   ]
  },
  {
   "cell_type": "code",
   "execution_count": 68,
   "metadata": {
    "collapsed": false
   },
   "outputs": [
    {
     "data": {
      "text/plain": [
       "array([  0. ,  10. ,  20. ,  30. ,  40. ,  50. ,  60. ,  70. ,  80. ,  87.5])"
      ]
     },
     "execution_count": 68,
     "metadata": {},
     "output_type": "execute_result"
    }
   ],
   "source": [
    "Theta_v"
   ]
  },
  {
   "cell_type": "code",
   "execution_count": 69,
   "metadata": {
    "collapsed": false
   },
   "outputs": [
    {
     "data": {
      "text/plain": [
       "array([  0. ,  10. ,  20. ,  30. ,  40. ,  50. ,  60. ,  70. ,  80. ,  87.5])"
      ]
     },
     "execution_count": 69,
     "metadata": {},
     "output_type": "execute_result"
    }
   ],
   "source": [
    "SZA"
   ]
  },
  {
   "cell_type": "code",
   "execution_count": 70,
   "metadata": {
    "collapsed": false
   },
   "outputs": [
    {
     "data": {
      "text/plain": [
       "array([  0.,   2.,   4.,   5.,   6.,   8.,  10.,  12.,  14.,  15.])"
      ]
     },
     "execution_count": 70,
     "metadata": {},
     "output_type": "execute_result"
    }
   ],
   "source": [
    "Windspeed"
   ]
  },
  {
   "cell_type": "code",
   "execution_count": 71,
   "metadata": {
    "collapsed": false
   },
   "outputs": [
    {
     "data": {
      "text/plain": [
       "array([ u'Mobley, C.D., 2015.  Polarized Reflectance and Transmittance Properties of Wind-blown Sea Surfaces, Applied Optics'], \n",
       "      dtype='<U114')"
      ]
     },
     "execution_count": 71,
     "metadata": {},
     "output_type": "execute_result"
    }
   ],
   "source": [
    "Reference"
   ]
  },
  {
   "cell_type": "code",
   "execution_count": 72,
   "metadata": {
    "collapsed": false
   },
   "outputs": [
    {
     "data": {
      "text/plain": [
       "array([[ array([ u'Theta_v is the polar viewing angle measured from 0 at the nadir in degrees'], \n",
       "      dtype='<U74'),\n",
       "        array([u'Phi_v is the azimuthal viewing angle measured from the sun at phi_v = 0'], \n",
       "      dtype='<U71'),\n",
       "        array([u'Solar Zenith Angle'], \n",
       "      dtype='<U18'),\n",
       "        array([u'Wind Speed'], \n",
       "      dtype='<U10')]], dtype=object)"
      ]
     },
     "execution_count": 72,
     "metadata": {},
     "output_type": "execute_result"
    }
   ],
   "source": [
    "AxisDefinitions"
   ]
  },
  {
   "cell_type": "code",
   "execution_count": 73,
   "metadata": {
    "collapsed": false
   },
   "outputs": [
    {
     "data": {
      "text/plain": [
       "array([[array([u'Phi_v'], \n",
       "      dtype='<U5'),\n",
       "        array([u'Theta_v'], \n",
       "      dtype='<U7'),\n",
       "        array([u'SZA'], \n",
       "      dtype='<U3'),\n",
       "        array([u'WindSpeed'], \n",
       "      dtype='<U9')]], dtype=object)"
      ]
     },
     "execution_count": 73,
     "metadata": {},
     "output_type": "execute_result"
    }
   ],
   "source": [
    "AxisOrder"
   ]
  },
  {
   "cell_type": "code",
   "execution_count": 61,
   "metadata": {
    "collapsed": false
   },
   "outputs": [
    {
     "data": {
      "text/plain": [
       "array([u'deg'], \n",
       "      dtype='<U3')"
      ]
     },
     "execution_count": 61,
     "metadata": {},
     "output_type": "execute_result"
    }
   ],
   "source": [
    "AxisUnits[0][0]"
   ]
  },
  {
   "cell_type": "code",
   "execution_count": 74,
   "metadata": {
    "collapsed": true
   },
   "outputs": [],
   "source": [
    "# Interpolate at 180 degrees azimuthal viewing angle from sun, Phi_v = 180\n",
    "# Theta_v = 10 - viewing zenith angle from nadir\n",
    "# SZA = 60 - solar zenith angle\n",
    "# Windspeed = 0.5 m/s\n",
    "reflectance = interpn((Phi_v, Theta_v, SZA, Windspeed), mobley_sea_sur_refl, [180.0, 10.0, 60.0, 0.5])"
   ]
  },
  {
   "cell_type": "code",
   "execution_count": 75,
   "metadata": {
    "collapsed": false
   },
   "outputs": [
    {
     "data": {
      "text/plain": [
       "array([ 0.02245075])"
      ]
     },
     "execution_count": 75,
     "metadata": {},
     "output_type": "execute_result"
    }
   ],
   "source": [
    "reflectance"
   ]
  },
  {
   "cell_type": "code",
   "execution_count": null,
   "metadata": {
    "collapsed": true
   },
   "outputs": [],
   "source": []
  }
 ],
 "metadata": {
  "kernelspec": {
   "display_name": "Python [mordevpy27]",
   "language": "python",
   "name": "Python [mordevpy27]"
  },
  "language_info": {
   "codemirror_mode": {
    "name": "ipython",
    "version": 2
   },
   "file_extension": ".py",
   "mimetype": "text/x-python",
   "name": "python",
   "nbconvert_exporter": "python",
   "pygments_lexer": "ipython2",
   "version": "2.7.12"
  }
 },
 "nbformat": 4,
 "nbformat_minor": 0
}
