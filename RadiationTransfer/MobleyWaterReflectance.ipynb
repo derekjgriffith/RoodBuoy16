{
 "cells": [
  {
   "cell_type": "code",
   "execution_count": 1,
   "metadata": {
    "collapsed": true
   },
   "outputs": [],
   "source": [
    "import numpy as np\n",
    "import scipy.io\n",
    "import xarray as xr\n",
    "from scipy.interpolate import interpn"
   ]
  },
  {
   "cell_type": "markdown",
   "metadata": {},
   "source": [
    "# Mobley Sea Surface Reflectance Tables\n",
    "It is important to read the Mobley reference in order to understand the nature of these tables properly.\n",
    "See the [Surface Reflectance Factor](http://www.oceanopticsbook.info/view/remote_sensing/level_3/surface_reflectance_factors) page at the [Ocean Optics Web Book](http://www.oceanopticsbook.info/).\n",
    "The tables are radiance ratios, where the numerator is the reflected radiance seen just above water and the denominator is the\n",
    "sky radiance on the reflected path. If the Mobley surface reflectance factor is denoted $\\rho$, then\n",
    "$$\\rho=\\frac{L_{wr}}{ L_{sky}},$$\n",
    "where $L_{sky}$ is the down-welling sky radiance (sky *only*) along the reflected view path and $L_{wr}$ is the *total* up-welling water-reflected radiance \n",
    "(including specular sun-glint).\n",
    "The Mobley tables are provided at a reference wavelength of $\\lambda$=550 nm. The wavelength-dependence of $\\rho$ can be\n",
    "quite pronounced if there is a significant amount of sun-glint in the surface-viewing direction.\n",
    "Proper usage of the reflectance tables therefore also requires some understanding of the spectral issues. Since the reference $L_{sky}$ is blue-biased and the sun-glint (specular) component of reflected radiance is relatively blue-deficient, $\\rho$\n",
    "becomes red-biased in the presence of sun-glint as illustrated in the figure at the [Surface Reflectance Factor](http://www.oceanopticsbook.info/view/remote_sensing/level_3/surface_reflectance_factors) web page.\n",
    "\n"
   ]
  },
  {
   "cell_type": "code",
   "execution_count": 2,
   "metadata": {
    "collapsed": true
   },
   "outputs": [],
   "source": [
    "# Read the sea surface reflectance factors by Mobley\n",
    "# The header in the file reads as follows :\n",
    "#  Table of rho values created with FFT surfaces and polarized ray tracing as described in\n",
    "#    Mobley, C.D., 2015.  Polarized Reflectance and Transmittance Properties of Wind-blown Sea Surfaces,\n",
    "#    Applied Optics (in review)\n",
    "#  NOTE: This is a preliminary table for use during review of the above paper.\n",
    "#    These rho values are for fully developed seas, sun's direct rays parallel to the wind direction,\n",
    "#    a Rayleigh, single-scattering sky at 550 nm, and wind speeds of 0, 2, 4, 5, 6, 8, 10, 12, 14, and 15 m/s.\n",
    "#    The final table will be placed online once the above paper has been accepted for publication.\n",
    "#  rho is computed from the I components of the Stokes radiance vectors: rho = I(surface reflected)/I(sky) [nondimensional]\n",
    "#  theta_v is the polar viewing angle measured from 0 at the nadir in degrees.\n",
    "#  _v is the azimuthal viewing angle measured from the sun at phi_v = 0\n",
    "#  in degrees.\n",
    "#  Looping order is\n",
    "#     wind speed\n",
    "#        sun zenith angle\n",
    "#           theta_v\n",
    "#              phi_v\n",
    "#  Data blocks of 118 theta_v, phi_v, rho(theta_v, phi_v) records on an (f7.1,f9.1,e15.4) format are separated by \n",
    "#   records giving the wind speed and sun zenith angle on an (12x,f5.1,20x,f5.1) format.\n",
    "#-------------------------------\n",
    "# theta_v    _v       rho\n",
    "#-------------------------------\n",
    "#WIND SPEED =  0.0; SUN ZENITH ANGLE =  0.0\n",
    "mat = scipy.io.loadmat('../Data/WaterReflectance/MobleySeaSurfaceRho2015.mat')"
   ]
  },
  {
   "cell_type": "code",
   "execution_count": 3,
   "metadata": {
    "collapsed": false
   },
   "outputs": [
    {
     "data": {
      "text/plain": [
       "(13L, 10L, 10L, 10L)"
      ]
     },
     "execution_count": 3,
     "metadata": {},
     "output_type": "execute_result"
    }
   ],
   "source": [
    "# Data is a 4-dimensional array\n",
    "# Data table is indexed as follows\n",
    "mat['SeaSurfRho'][0,0][0].shape"
   ]
  },
  {
   "cell_type": "code",
   "execution_count": 4,
   "metadata": {
    "collapsed": false
   },
   "outputs": [],
   "source": [
    "# Order of axes is :\n",
    "# -v (azimuthal viewing angle relative to sun in degrees),\n",
    "# theta-v (polar viewing angle measured from nadir in degrees)\n",
    "# sza (solar zenith angle in degrees)\n",
    "# windspeed (metres per second)\n",
    "mobley_sea_sur_refl = mat['SeaSurfRho'][0,0][0]\n",
    "theta_v = np.asarray(mat['SeaSurfRho'][0,0][1], dtype=np.float).squeeze()\n",
    "phi_v = np.asarray(mat['SeaSurfRho'][0,0][2], dtype=np.float).squeeze()\n",
    "sza = np.asarray(mat['SeaSurfRho'][0,0][3], dtype=np.float).squeeze()\n",
    "windspeed = np.asarray(mat['SeaSurfRho'][0,0][4], dtype=np.float).squeeze()\n",
    "reference = mat['SeaSurfRho'][0,0][5]\n",
    "axis_definitions = mat['SeaSurfRho'][0,0][6]\n",
    "axis_order = mat['SeaSurfRho'][0,0][7]\n",
    "axis_units = mat['SeaSurfRho'][0,0][8]"
   ]
  },
  {
   "cell_type": "code",
   "execution_count": 5,
   "metadata": {
    "collapsed": false
   },
   "outputs": [
    {
     "data": {
      "text/plain": [
       "array([   0.,   15.,   30.,   45.,   60.,   75.,   90.,  105.,  120.,\n",
       "        135.,  150.,  165.,  180.])"
      ]
     },
     "execution_count": 5,
     "metadata": {},
     "output_type": "execute_result"
    }
   ],
   "source": [
    "phi_v"
   ]
  },
  {
   "cell_type": "code",
   "execution_count": 6,
   "metadata": {
    "collapsed": false
   },
   "outputs": [
    {
     "data": {
      "text/plain": [
       "array([  0. ,  10. ,  20. ,  30. ,  40. ,  50. ,  60. ,  70. ,  80. ,  87.5])"
      ]
     },
     "execution_count": 6,
     "metadata": {},
     "output_type": "execute_result"
    }
   ],
   "source": [
    "theta_v"
   ]
  },
  {
   "cell_type": "code",
   "execution_count": 7,
   "metadata": {
    "collapsed": false
   },
   "outputs": [
    {
     "data": {
      "text/plain": [
       "array([  0. ,  10. ,  20. ,  30. ,  40. ,  50. ,  60. ,  70. ,  80. ,  87.5])"
      ]
     },
     "execution_count": 7,
     "metadata": {},
     "output_type": "execute_result"
    }
   ],
   "source": [
    "sza"
   ]
  },
  {
   "cell_type": "code",
   "execution_count": 8,
   "metadata": {
    "collapsed": false
   },
   "outputs": [
    {
     "data": {
      "text/plain": [
       "array([  0.,   2.,   4.,   5.,   6.,   8.,  10.,  12.,  14.,  15.])"
      ]
     },
     "execution_count": 8,
     "metadata": {},
     "output_type": "execute_result"
    }
   ],
   "source": [
    "windspeed"
   ]
  },
  {
   "cell_type": "code",
   "execution_count": 9,
   "metadata": {
    "collapsed": false
   },
   "outputs": [
    {
     "data": {
      "text/plain": [
       "array([ u'Mobley, C.D., 2015.  Polarized Reflectance and Transmittance Properties of Wind-blown Sea Surfaces, Applied Optics'], \n",
       "      dtype='<U114')"
      ]
     },
     "execution_count": 9,
     "metadata": {},
     "output_type": "execute_result"
    }
   ],
   "source": [
    "reference"
   ]
  },
  {
   "cell_type": "code",
   "execution_count": 10,
   "metadata": {
    "collapsed": false
   },
   "outputs": [
    {
     "data": {
      "text/plain": [
       "array([[ array([ u'Theta_v is the polar viewing angle measured from 0 at the nadir in degrees'], \n",
       "      dtype='<U74'),\n",
       "        array([u'Phi_v is the azimuthal viewing angle measured from the sun at phi_v = 0'], \n",
       "      dtype='<U71'),\n",
       "        array([u'Solar Zenith Angle'], \n",
       "      dtype='<U18'),\n",
       "        array([u'Wind Speed'], \n",
       "      dtype='<U10')]], dtype=object)"
      ]
     },
     "execution_count": 10,
     "metadata": {},
     "output_type": "execute_result"
    }
   ],
   "source": [
    "axis_definitions"
   ]
  },
  {
   "cell_type": "code",
   "execution_count": 11,
   "metadata": {
    "collapsed": false
   },
   "outputs": [
    {
     "data": {
      "text/plain": [
       "array([[array([u'Phi_v'], \n",
       "      dtype='<U5'),\n",
       "        array([u'Theta_v'], \n",
       "      dtype='<U7'),\n",
       "        array([u'SZA'], \n",
       "      dtype='<U3'),\n",
       "        array([u'WindSpeed'], \n",
       "      dtype='<U9')]], dtype=object)"
      ]
     },
     "execution_count": 11,
     "metadata": {},
     "output_type": "execute_result"
    }
   ],
   "source": [
    "axis_order"
   ]
  },
  {
   "cell_type": "code",
   "execution_count": 12,
   "metadata": {
    "collapsed": false
   },
   "outputs": [
    {
     "data": {
      "text/plain": [
       "array([u'deg'], \n",
       "      dtype='<U3')"
      ]
     },
     "execution_count": 12,
     "metadata": {},
     "output_type": "execute_result"
    }
   ],
   "source": [
    "axis_units[0][0]"
   ]
  },
  {
   "cell_type": "code",
   "execution_count": 13,
   "metadata": {
    "collapsed": true
   },
   "outputs": [],
   "source": [
    "# Interpolate at 180 degrees azimuthal viewing angle from sun, _v = 180\n",
    "# theta_v = 10 - viewing zenith angle from nadir\n",
    "# sza = 60 - solar zenith angle\n",
    "# windspeed = 0.5 m/s\n",
    "reflectance = interpn((phi_v, theta_v, sza, windspeed), mobley_sea_sur_refl, [180.0, 10.0, 60.0, 0.5])"
   ]
  },
  {
   "cell_type": "code",
   "execution_count": 14,
   "metadata": {
    "collapsed": false
   },
   "outputs": [
    {
     "data": {
      "text/plain": [
       "array([ 0.02245075])"
      ]
     },
     "execution_count": 14,
     "metadata": {},
     "output_type": "execute_result"
    }
   ],
   "source": [
    "reflectance"
   ]
  },
  {
   "cell_type": "code",
   "execution_count": 16,
   "metadata": {
    "collapsed": false
   },
   "outputs": [],
   "source": [
    "# Save the data to a .npz file\n",
    "np.savez('MobleySeaSurfReflTables.npz', phi_v=phi_v, theta_v=theta_v, sza=sza, windspeed=windspeed, \n",
    "         mobley_sea_sur_refl=mobley_sea_sur_refl, reference=reference, axis_order=axis_order, \n",
    "         axis_definitions=axis_definitions, axis_units=axis_units)"
   ]
  },
  {
   "cell_type": "code",
   "execution_count": null,
   "metadata": {
    "collapsed": true
   },
   "outputs": [],
   "source": []
  }
 ],
 "metadata": {
  "kernelspec": {
   "display_name": "Python [mordevpy27]",
   "language": "python",
   "name": "Python [mordevpy27]"
  },
  "language_info": {
   "codemirror_mode": {
    "name": "ipython",
    "version": 2
   },
   "file_extension": ".py",
   "mimetype": "text/x-python",
   "name": "python",
   "nbconvert_exporter": "python",
   "pygments_lexer": "ipython2",
   "version": "2.7.12"
  }
 },
 "nbformat": 4,
 "nbformat_minor": 0
}
