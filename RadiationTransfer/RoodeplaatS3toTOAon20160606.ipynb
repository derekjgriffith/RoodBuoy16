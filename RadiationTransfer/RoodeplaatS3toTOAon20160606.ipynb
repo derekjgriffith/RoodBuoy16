{
 "cells": [
  {
   "cell_type": "markdown",
   "metadata": {},
   "source": [
    "# Radiative Transfer for Roodeplaat on 2016-06-05"
   ]
  },
  {
   "cell_type": "markdown",
   "metadata": {},
   "source": [
    "This notebook is essentially the libRadtran equivalent of the Matlab scripts that perform the radiative transfer calculations for the Sentinel 3 overpass on Sunday 2016-06-05."
   ]
  },
  {
   "cell_type": "code",
   "execution_count": 1,
   "metadata": {
    "collapsed": false
   },
   "outputs": [],
   "source": [
    "import morticia.rad.librad as librad\n",
    "import numpy as np\n",
    "import matplotlib as mpl\n",
    "import matplotlib.pyplot as plt\n",
    "from ipyparallel import Client  # This is the client class for contacting the hub/controller\n",
    "import datetime\n",
    "# use latex for font rendering\n",
    "mpl.rcParams['text.usetex'] = True  # Use TeX to format labels (takes a bit longer)\n",
    "%matplotlib inline"
   ]
  },
  {
   "cell_type": "code",
   "execution_count": 2,
   "metadata": {
    "collapsed": false
   },
   "outputs": [],
   "source": [
    "# Create a blank case\n",
    "S3 = librad.Case(casename='S3toTOAon20160605')"
   ]
  },
  {
   "cell_type": "code",
   "execution_count": 3,
   "metadata": {
    "collapsed": false
   },
   "outputs": [],
   "source": [
    "# Choose basic atmospheric profile\n",
    "atmos_profile = '../data/atmmod/afglmw.dat'\n",
    "S3.set_option('atmosphere_file', atmos_profile)  # mid-latitude winter standard atmosphere\n",
    "\n",
    "# Modify the ozone and water vapour amounts\n",
    "S3.set_option('mol_modify H2O', 10.5, 'MM')  # Total water vapour column in mm\n",
    "S3.set_option('mol_modify O3', 266.1, 'DU')  # Total ozone column in Dobson units\n",
    "\n",
    "# Change to the Thuillier spectrum and set wavelength range appropriately\n",
    "solar_toa_file = '../data/solar_flux/Solar_irradiance_Thuillier_2002.txt'\n",
    "# Choose start and stop wavelengths and minimum edge margin in nm\n",
    "wv_minimum_range = [[385.0, -2.0], [955.0, 2.0]]\n",
    "# Find the nearest wavelengths in the solar file\n",
    "wv_range = librad.lookup_nearest_in_file('data/Solar_irradiance_Thuillier_2002.txt', wv_minimum_range)  # lookup in local copy\n",
    "S3.set_option('source solar', solar_toa_file)\n",
    "S3.set_option('wavelength', wv_range[0], wv_range[1])  # Wavelength must exist in the source solar file\n",
    "\n",
    "# Set ground altitude\n",
    "S3.set_option('altitude', 1.225)  # ground altitude in km above sea level\n",
    "\n",
    "# Set up aerosol model\n",
    "\n",
    "# Set up viewing and solar geometry. Note that these angles are taken from the S3 product and special\n",
    "# care has to be taken when putting geometry information into libRadtran\n",
    "OAA = 104.01066  # deg. Observation azimuth angle (presumably relative to north through east, satellite from dam)\n",
    "OZA = 14.151356  # deg. Observation zenith angle (satellite zenith angle as seen from the dam)\n",
    "SAA = 38.719933  # deg. Solar azimuth angle (presumably relative to north through east)\n",
    "SZA = 59.316036  # deg. Solar zenith angle\n",
    "\n",
    "S3.set_option('sza', SZA)  # deg. This one is straightforward\n",
    "# Now when entering solar and observation zenith angles, it is necessary to provide the azimuth of light propagation\n",
    "# rather than the azimuth of the view direction, which is 180 deg different\n",
    "S3.set_option('phi0', 180.0 - SAA)  # solar radiation propagation azimuth from north through east\n",
    "S3.set_option('phi', OAA)  # This is the azimuth of the satellite as seen from the target - also azimuth of light propgation\n",
    "S3.set_option('umu', np.cos(np.deg2rad(OZA))) # For downward-looking, check that umu is positive\n"
   ]
  },
  {
   "cell_type": "code",
   "execution_count": 15,
   "metadata": {
    "collapsed": false
   },
   "outputs": [
    {
     "name": "stdout",
     "output_type": "stream",
     "text": [
      "atmosphere_file ../data/atmmod/afglmw.dat\n",
      "mol_modify O3 266.1 DU\n",
      "source solar ../data/solar_flux/Solar_irradiance_Thuillier_2002.txt\n",
      "wavelength 382.93 957.03\n",
      "altitude 1.225\n",
      "sza 59.316036\n",
      "phi0 141.280067\n",
      "phi 104.01066\n",
      "umu 0.969653265954\n"
     ]
    }
   ],
   "source": [
    "print S3"
   ]
  },
  {
   "cell_type": "code",
   "execution_count": 5,
   "metadata": {
    "collapsed": false
   },
   "outputs": [
    {
     "ename": "KeyError",
     "evalue": "'garbage'",
     "output_type": "error",
     "traceback": [
      "\u001b[1;31m---------------------------------------------------------------------------\u001b[0m",
      "\u001b[1;31mKeyError\u001b[0m                                  Traceback (most recent call last)",
      "\u001b[1;32m<ipython-input-5-50a509a1377e>\u001b[0m in \u001b[0;36m<module>\u001b[1;34m()\u001b[0m\n\u001b[1;32m----> 1\u001b[1;33m \u001b[0mS3\u001b[0m\u001b[1;33m.\u001b[0m\u001b[0mset_option\u001b[0m\u001b[1;33m(\u001b[0m\u001b[1;34m'garbage'\u001b[0m\u001b[1;33m)\u001b[0m\u001b[1;33m\u001b[0m\u001b[0m\n\u001b[0m",
      "\u001b[1;32mD:\\Projects\\GitHub\\MORTICIA\\morticia\\rad\\librad.py\u001b[0m in \u001b[0;36mset_option\u001b[1;34m(self, *superlist)\u001b[0m\n\u001b[0;32m    628\u001b[0m         \u001b[0moptionlist\u001b[0m \u001b[1;33m=\u001b[0m \u001b[1;33m[\u001b[0m\u001b[0mstr\u001b[0m\u001b[1;33m(\u001b[0m\u001b[0melement\u001b[0m\u001b[1;33m)\u001b[0m\u001b[1;33m.\u001b[0m\u001b[0msplit\u001b[0m\u001b[1;33m(\u001b[0m\u001b[1;33m)\u001b[0m \u001b[1;32mfor\u001b[0m \u001b[0melement\u001b[0m \u001b[1;32min\u001b[0m \u001b[0msuperlist\u001b[0m\u001b[1;33m]\u001b[0m\u001b[1;33m\u001b[0m\u001b[0m\n\u001b[0;32m    629\u001b[0m         \u001b[1;31m# now flatten the list\u001b[0m\u001b[1;33m\u001b[0m\u001b[1;33m\u001b[0m\u001b[0m\n\u001b[1;32m--> 630\u001b[1;33m         \u001b[0moption\u001b[0m \u001b[1;33m=\u001b[0m \u001b[0mlist\u001b[0m\u001b[1;33m(\u001b[0m\u001b[0mchain\u001b[0m\u001b[1;33m(\u001b[0m\u001b[1;33m*\u001b[0m\u001b[0moptionlist\u001b[0m\u001b[1;33m)\u001b[0m\u001b[1;33m)\u001b[0m\u001b[1;33m\u001b[0m\u001b[0m\n\u001b[0m\u001b[0;32m    631\u001b[0m         \u001b[1;31m# and use alter_option to do the work\u001b[0m\u001b[1;33m\u001b[0m\u001b[1;33m\u001b[0m\u001b[0m\n\u001b[0;32m    632\u001b[0m         \u001b[0mself\u001b[0m\u001b[1;33m.\u001b[0m\u001b[0malter_option\u001b[0m\u001b[1;33m(\u001b[0m\u001b[0moption\u001b[0m\u001b[1;33m)\u001b[0m\u001b[1;33m\u001b[0m\u001b[0m\n",
      "\u001b[1;32mD:\\Projects\\GitHub\\MORTICIA\\morticia\\rad\\librad.py\u001b[0m in \u001b[0;36malter_option\u001b[1;34m(self, option, origin)\u001b[0m\n\u001b[0;32m    601\u001b[0m             \u001b[0mioption\u001b[0m \u001b[1;33m=\u001b[0m \u001b[0mself\u001b[0m\u001b[1;33m.\u001b[0m\u001b[0moptions\u001b[0m\u001b[1;33m.\u001b[0m\u001b[0mindex\u001b[0m\u001b[1;33m(\u001b[0m\u001b[0moption\u001b[0m\u001b[1;33m[\u001b[0m\u001b[1;36m0\u001b[0m\u001b[1;33m]\u001b[0m\u001b[1;33m)\u001b[0m\u001b[1;33m\u001b[0m\u001b[0m\n\u001b[0;32m    602\u001b[0m             \u001b[1;31m# If the option is currently in use, first check if the option has any 'logicals'\u001b[0m\u001b[1;33m\u001b[0m\u001b[1;33m\u001b[0m\u001b[0m\n\u001b[1;32m--> 603\u001b[1;33m             \u001b[1;31m# if it does, then the\u001b[0m\u001b[1;33m\u001b[0m\u001b[1;33m\u001b[0m\u001b[0m\n\u001b[0m\u001b[0;32m    604\u001b[0m         \u001b[1;32mexcept\u001b[0m \u001b[0mValueError\u001b[0m\u001b[1;33m:\u001b[0m  \u001b[1;31m# The option is not currently being used\u001b[0m\u001b[1;33m\u001b[0m\u001b[0m\n\u001b[0;32m    605\u001b[0m             \u001b[0mself\u001b[0m\u001b[1;33m.\u001b[0m\u001b[0mappend_option\u001b[0m\u001b[1;33m(\u001b[0m\u001b[0moption\u001b[0m\u001b[1;33m,\u001b[0m \u001b[0morigin\u001b[0m\u001b[1;33m)\u001b[0m  \u001b[1;31m# just append the option if not found\u001b[0m\u001b[1;33m\u001b[0m\u001b[0m\n",
      "\u001b[1;32mD:\\Projects\\GitHub\\MORTICIA\\morticia\\rad\\librad.py\u001b[0m in \u001b[0;36mappend_option\u001b[1;34m(self, option, origin)\u001b[0m\n\u001b[0;32m    583\u001b[0m         \u001b[1;33m:\u001b[0m\u001b[1;32mreturn\u001b[0m\u001b[1;33m:\u001b[0m\u001b[1;33m\u001b[0m\u001b[0m\n\u001b[0;32m    584\u001b[0m         \"\"\"\n\u001b[1;32m--> 585\u001b[1;33m         \u001b[0mself\u001b[0m\u001b[1;33m.\u001b[0m\u001b[0moptionobj\u001b[0m\u001b[1;33m.\u001b[0m\u001b[0mappend\u001b[0m\u001b[1;33m(\u001b[0m\u001b[0muvsOptions\u001b[0m\u001b[1;33m[\u001b[0m\u001b[0moption\u001b[0m\u001b[1;33m[\u001b[0m\u001b[1;36m0\u001b[0m\u001b[1;33m]\u001b[0m\u001b[1;33m]\u001b[0m\u001b[1;33m)\u001b[0m  \u001b[1;31m# The option object, this will raise ValueError if ti does not exist\u001b[0m\u001b[1;33m\u001b[0m\u001b[0m\n\u001b[0m\u001b[0;32m    586\u001b[0m         \u001b[0mself\u001b[0m\u001b[1;33m.\u001b[0m\u001b[0moptions\u001b[0m\u001b[1;33m.\u001b[0m\u001b[0mappend\u001b[0m\u001b[1;33m(\u001b[0m\u001b[0moption\u001b[0m\u001b[1;33m[\u001b[0m\u001b[1;36m0\u001b[0m\u001b[1;33m]\u001b[0m\u001b[1;33m)\u001b[0m  \u001b[1;31m# the option keyword (string)\u001b[0m\u001b[1;33m\u001b[0m\u001b[0m\n\u001b[0;32m    587\u001b[0m         \u001b[0mself\u001b[0m\u001b[1;33m.\u001b[0m\u001b[0mtokens\u001b[0m\u001b[1;33m.\u001b[0m\u001b[0mappend\u001b[0m\u001b[1;33m(\u001b[0m\u001b[0moption\u001b[0m\u001b[1;33m[\u001b[0m\u001b[1;36m1\u001b[0m\u001b[1;33m:\u001b[0m\u001b[1;33m]\u001b[0m\u001b[1;33m)\u001b[0m  \u001b[1;31m# The tokens following the keyword (list of strings)\u001b[0m\u001b[1;33m\u001b[0m\u001b[0m\n",
      "\u001b[1;31mKeyError\u001b[0m: 'garbage'"
     ]
    }
   ],
   "source": [
    "S3.set_option('garbage')"
   ]
  },
  {
   "cell_type": "code",
   "execution_count": 14,
   "metadata": {
    "collapsed": false
   },
   "outputs": [
    {
     "ename": "ValueError",
     "evalue": "'a x' is not in list",
     "output_type": "error",
     "traceback": [
      "\u001b[1;31m---------------------------------------------------------------------------\u001b[0m",
      "\u001b[1;31mValueError\u001b[0m                                Traceback (most recent call last)",
      "\u001b[1;32m<ipython-input-14-e0624247d84b>\u001b[0m in \u001b[0;36m<module>\u001b[1;34m()\u001b[0m\n\u001b[1;32m----> 1\u001b[1;33m \u001b[1;33m[\u001b[0m\u001b[1;34m'a c'\u001b[0m\u001b[1;33m,\u001b[0m \u001b[1;34m'b'\u001b[0m\u001b[1;33m,\u001b[0m \u001b[1;34m'c'\u001b[0m\u001b[1;33m,\u001b[0m \u001b[1;34m'a'\u001b[0m\u001b[1;33m]\u001b[0m\u001b[1;33m.\u001b[0m\u001b[0mindex\u001b[0m\u001b[1;33m(\u001b[0m\u001b[1;34m'a x'\u001b[0m\u001b[1;33m)\u001b[0m\u001b[1;33m\u001b[0m\u001b[0m\n\u001b[0m",
      "\u001b[1;31mValueError\u001b[0m: 'a x' is not in list"
     ]
    }
   ],
   "source": [
    "['a c', 'b', 'c', 'a'].index('a x')"
   ]
  },
  {
   "cell_type": "code",
   "execution_count": null,
   "metadata": {
    "collapsed": true
   },
   "outputs": [],
   "source": []
  }
 ],
 "metadata": {
  "kernelspec": {
   "display_name": "Python [mordevpy27]",
   "language": "python",
   "name": "Python [mordevpy27]"
  },
  "language_info": {
   "codemirror_mode": {
    "name": "ipython",
    "version": 2
   },
   "file_extension": ".py",
   "mimetype": "text/x-python",
   "name": "python",
   "nbconvert_exporter": "python",
   "pygments_lexer": "ipython2",
   "version": "2.7.12"
  }
 },
 "nbformat": 4,
 "nbformat_minor": 0
}
