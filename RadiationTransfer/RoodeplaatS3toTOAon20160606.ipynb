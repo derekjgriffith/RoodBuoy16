{
 "cells": [
  {
   "cell_type": "markdown",
   "metadata": {},
   "source": [
    "# Radiative Transfer for Roodeplaat on 2016-06-05"
   ]
  },
  {
   "cell_type": "markdown",
   "metadata": {},
   "source": [
    "This notebook is essentially the libRadtran equivalent of the Matlab scripts that perform the radiative transfer calculations for the Sentinel 3 overpass on Sunday 2016-06-05."
   ]
  },
  {
   "cell_type": "code",
   "execution_count": 1,
   "metadata": {
    "collapsed": false
   },
   "outputs": [],
   "source": [
    "import morticia.rad.librad as librad\n",
    "import numpy as np\n",
    "import matplotlib as mpl\n",
    "import matplotlib.pyplot as plt\n",
    "from ipyparallel import Client  # This is the client class for contacting the hub/controller\n",
    "import datetime\n",
    "import pytz\n",
    "from scipy.optimize import curve_fit  # For fitting of Angstrom law to aerosol optical thickness measurements\n",
    "# use latex for font rendering\n",
    "mpl.rcParams['text.usetex'] = True  # Use TeX to format labels (takes a bit longer)\n",
    "%matplotlib inline"
   ]
  },
  {
   "cell_type": "code",
   "execution_count": 49,
   "metadata": {
    "collapsed": false
   },
   "outputs": [],
   "source": [
    "# Create a blank case\n",
    "S3 = librad.Case(casename='S3toTOAon20160605')"
   ]
  },
  {
   "cell_type": "code",
   "execution_count": 50,
   "metadata": {
    "collapsed": false
   },
   "outputs": [],
   "source": [
    "# Set revision\n",
    "revision = '00A'\n",
    "# Set up dates and times\n",
    "overpass_datetime = datetime.datetime(2016, 6, 5, 7, 42, 31, tzinfo=pytz.utc)  # Overpass date and time down to second\n",
    "overpass_datestr = overpass_datetime.strftime('%Y%m%d')\n",
    "# Get the day of year\n",
    "day_of_year = int(overpass_datetime.strftime('%j'))\n",
    "S3.set_option('day_of_year', day_of_year)\n",
    "\n",
    "results_folder = 'ResultsS3on' + overpass_datestr + 'Rev' + revision\n",
    "\n",
    "\n",
    "# Choose basic atmospheric profile\n",
    "atmos_profile = '../data/atmmod/afglmw.dat'\n",
    "S3.set_option('atmosphere_file', atmos_profile)  # mid-latitude winter standard atmosphere\n",
    "\n",
    "# Modify the ozone and water vapour column amounts\n",
    "S3.set_option('mol_modify H2O', 10.5, 'MM')  # Total water vapour column in mm\n",
    "S3.set_option('mol_modify O3', 266.1, 'DU')  # Total ozone column in Dobson units\n",
    "\n",
    "# Change to the Thuillier spectrum and set wavelength range appropriately\n",
    "solar_toa_file = '../data/solar_flux/Solar_irradiance_Thuillier_2002.txt'\n",
    "\n",
    "# Pick the band model\n",
    "S3.set_option()\n",
    "# Choose start and stop wavelengths and minimum edge margin in nm\n",
    "wv_minimum_range = [[385.0, -2.0], [955.0, 2.0]]\n",
    "# Find the nearest wavelengths in the solar file\n",
    "wv_range = librad.lookup_nearest_in_file('data/Solar_irradiance_Thuillier_2002.txt', wv_minimum_range)  # lookup in local copy\n",
    "S3.set_option('source solar', solar_toa_file)\n",
    "S3.set_option('wavelength', wv_range[0], wv_range[1])  # Wavelength must exist in the source solar file\n",
    "\n",
    "# Set ground altitude\n",
    "S3.set_option('altitude', 1.225)  # ground altitude in km above sea level\n",
    "\n",
    "# Set up aerosol model\n",
    "S3.set_option('aerosol_haze', 5)  # Shettle/Fenn urban aerosol\n",
    "aot_wv = np.array([440, 500, 675, 870], dtype=np.float)\n",
    "aot = np.array([0.703, 0.615, 0.362, 0.206])\n",
    "# Define Angstrom law for wavelengths in micron - see uvspec manual aerosol_angstrom\n",
    "def angstrom_law(wavelength, alpha, beta):\n",
    "    return beta * wavelength ** (-alpha)\n",
    "# Fit Angstrom law to data\n",
    "popt, pcov = curve_fit(angstrom_law, aot_wv/1000.0, aot)  # Wavelengths must be in micron for Angstrom law purposes\n",
    "alpha, beta = popt[0], popt[1]\n",
    "S3.set_option('aerosol_angstrom', alpha, beta)\n",
    "\n",
    "# Set up viewing and solar geometry. Note that these angles are taken from the S3 product and special\n",
    "# care has to be taken when putting geometry information into libRadtran\n",
    "OAA = 104.01066  # deg. Observation azimuth angle (presumably relative to north through east, satellite from dam)\n",
    "OZA = 14.151356  # deg. Observation zenith angle (satellite zenith angle as seen from the dam)\n",
    "SAA = 38.719933  # deg. Solar azimuth angle (presumably relative to north through east)\n",
    "SZA = 59.316036  # deg. Solar zenith angle\n",
    "\n",
    "S3.set_option('sza', SZA)  # deg. This one is straightforward\n",
    "# Now when entering solar and observation zenith angles, it is necessary to provide the azimuth of light propagation\n",
    "# rather than the azimuth of the view direction, which is 180 deg different\n",
    "S3.set_option('phi0', 180.0 - SAA)  # solar radiation propagation azimuth from north through east\n",
    "S3.set_option('phi', OAA)  # This is the azimuth of the satellite as seen from the target - also azimuth of light propgation\n",
    "S3.set_option('umu', np.cos(np.deg2rad(OZA))) # For downward-looking (upward propagating), check that umu is positive\n"
   ]
  },
  {
   "cell_type": "code",
   "execution_count": 51,
   "metadata": {
    "collapsed": false
   },
   "outputs": [
    {
     "name": "stdout",
     "output_type": "stream",
     "text": [
      "day_of_year 157\n",
      "atmosphere_file ../data/atmmod/afglmw.dat\n",
      "mol_modify H2O 10.5 MM\n",
      "mol_modify O3 266.1 DU\n",
      "source solar ../data/solar_flux/Solar_irradiance_Thuillier_2002.txt\n",
      "wavelength 382.93 957.03\n",
      "altitude 1.225\n",
      "aerosol_haze 5\n",
      "aerosol_angstrom 1.68488875619 0.181751188084\n",
      "sza 59.316036\n",
      "phi0 141.280067\n",
      "phi 104.01066\n",
      "umu 0.969653265954\n"
     ]
    }
   ],
   "source": [
    "print S3"
   ]
  },
  {
   "cell_type": "code",
   "execution_count": null,
   "metadata": {
    "collapsed": true
   },
   "outputs": [],
   "source": []
  }
 ],
 "metadata": {
  "kernelspec": {
   "display_name": "Python [mordevpy27]",
   "language": "python",
   "name": "Python [mordevpy27]"
  },
  "language_info": {
   "codemirror_mode": {
    "name": "ipython",
    "version": 2
   },
   "file_extension": ".py",
   "mimetype": "text/x-python",
   "name": "python",
   "nbconvert_exporter": "python",
   "pygments_lexer": "ipython2",
   "version": "2.7.12"
  }
 },
 "nbformat": 4,
 "nbformat_minor": 0
}
